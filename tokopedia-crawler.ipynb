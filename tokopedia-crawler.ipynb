{
 "metadata": {
  "kernelspec": {
   "language": "python",
   "display_name": "Python 3",
   "name": "python3"
  },
  "language_info": {
   "name": "python",
   "version": "3.7.12",
   "mimetype": "text/x-python",
   "codemirror_mode": {
    "name": "ipython",
    "version": 3
   },
   "pygments_lexer": "ipython3",
   "nbconvert_exporter": "python",
   "file_extension": ".py"
  }
 },
 "nbformat_minor": 4,
 "nbformat": 4,
 "cells": [
  {
   "cell_type": "code",
   "source": [
    "import requests\n",
    "import pandas as pd\n",
    "from bs4 import BeautifulSoup\n",
    "from selenium import webdriver"
   ],
   "metadata": {
    "_uuid": "8f2839f25d086af736a60e9eeb907d3b93b6e0e5",
    "_cell_guid": "b1076dfc-b9ad-4769-8c92-a6c4dae69d19",
    "execution": {
     "iopub.status.busy": "2022-11-29T14:24:12.590300Z",
     "iopub.execute_input": "2022-11-29T14:24:12.590626Z",
     "iopub.status.idle": "2022-11-29T14:24:12.595926Z",
     "shell.execute_reply.started": "2022-11-29T14:24:12.590603Z",
     "shell.execute_reply": "2022-11-29T14:24:12.594637Z"
    },
    "trusted": true
   },
   "execution_count": 201,
   "outputs": []
  },
  {
   "cell_type": "code",
   "source": [
    "crawl_links = []\n",
    "category_links = [\"https://www.tokopedia.com/p/perawatan-hewan\",\n",
    "                  \"https://www.tokopedia.com/p/office-stationery\",\n",
    "                  \"https://www.tokopedia.com/p/kecantikan\",\n",
    "                  \"https://www.tokopedia.com/p/makanan-minuman\",\n",
    "                  \"https://www.tokopedia.com/p/kesehatan\",\n",
    "                  \"https://www.tokopedia.com/p/film-musik\",\n",
    "                  \"https://www.tokopedia.com/p/buku\",\n",
    "                  \"https://www.tokopedia.com/p/otomotif\",\n",
    "                  \"https://www.tokopedia.com/p/fashion-pria\",\n",
    "                  \"https://www.tokopedia.com/p/fashion-wanita\",\n",
    "                  \"https://www.tokopedia.com/p/pertukangan\",\n",
    "                  \"https://www.tokopedia.com/p/dapur\",\n",
    "                  \"https://www.tokopedia.com/p/olahraga\",\n",
    "                  \"https://www.tokopedia.com/p/gaming\",\n",
    "                  \"https://www.tokopedia.com/p/fashion-anak-bayi\",\n",
    "                  \"https://www.tokopedia.com/p/logam-mulia\",\n",
    "                  \"https://www.tokopedia.com/p/rumah-tangga\",\n",
    "                  \"https://www.tokopedia.com/p/elektronik\",\n",
    "                  \"https://www.tokopedia.com/p/mainan-hobi\"]\n",
    "\n",
    "for link in category_links:\n",
    "    driver = webdriver.Chrome(executable_path=\"C:\\chromedriver.exe\")\n",
    "    crawling_link = link\n",
    "    if (crawling_link.startswith('/')):\n",
    "        crawling_link = \"https://www.tokopedia.com\" + crawling_link\n",
    "    else:\n",
    "        crawling_link = crawling_link\n",
    "    driver.get(crawling_link)\n",
    "    total_height = int(driver.execute_script(\"return document.body.scrollHeight\"))\n",
    "    i = 0\n",
    "    while i < total_height:\n",
    "        driver.execute_script(\"window.scrollTo(0, {});\".format(i))\n",
    "        total_height = int(driver.execute_script(\"return document.body.scrollHeight\"))\n",
    "        i += 4\n",
    "    # url = 'https://www.tokopedia.com/'\n",
    "    # headers = {'User-Agent': 'Mozilla/5.0 (X11; Ubuntu; Linux x86_64; rv:77.0) Gecko/20100101 Firefox/77.0'}\n",
    "    # soup = BeautifulSoup(requests.get(url,headers=headers).content, 'html.parser')\n",
    "    html = BeautifulSoup(driver.page_source, 'lxml')\n",
    "    for a_tag in html.findAll('a'):\n",
    "        if a_tag.has_attr('href'):\n",
    "            if a_tag['href'] != crawling_link:\n",
    "                crawl_links.append(a_tag['href'])\n",
    "\n",
    "crawl_links = [x for x in crawl_links if len(x) > 50]\n",
    "crawl_links = [x for x in crawl_links if 'www.tokopedia.com/find' not in x]\n",
    "crawl_links = [x for x in crawl_links if 'seller.tokopedia.com' not in x]\n",
    "crawl_links = [x for x in crawl_links if 'banner' not in x]\n",
    "crawl_links = [x for x in crawl_links if 'https://www.tokopedia.com' in x]\n",
    "crawl_links = [x for x in crawl_links if 'www.tokopedia.com/discovery' not in x]\n",
    "crawl_links = [x for x in crawl_links if 'tokopedia.com/promo' not in x]\n",
    "crawl_links = [x for x in crawl_links if '/etalase/' not in x]\n",
    "crawl_links = [x for x in crawl_links if 'www.tokopedia.com/official-store/' not in x]\n",
    "crawl_links = [x for x in crawl_links if 'www.tokopedia.com/p/' not in x]\n",
    "crawl_links = [x for x in crawl_links if 'https://www.tokopedia.com/perlindungan-kekayaan-intelektual' not in x]\n",
    "crawl_links = [x for x in crawl_links if 'https://www.tokopedia.com/mitra-toppers/?nref=mtfoot' not in x]\n",
    "crawl_links = list(set(crawl_links))"
   ],
   "metadata": {
    "execution": {
     "iopub.status.busy": "2022-11-29T14:24:37.275063Z",
     "iopub.execute_input": "2022-11-29T14:24:37.275428Z",
     "iopub.status.idle": "2022-11-29T14:24:38.143470Z",
     "shell.execute_reply.started": "2022-11-29T14:24:37.275402Z",
     "shell.execute_reply": "2022-11-29T14:24:38.142267Z"
    },
    "trusted": true
   },
   "execution_count": 202,
   "outputs": [
    {
     "name": "stderr",
     "output_type": "stream",
     "text": [
      "C:\\Users\\Kenny Jinhiro\\AppData\\Local\\Temp\\ipykernel_24676\\1794779869.py:22: DeprecationWarning: executable_path has been deprecated, please pass in a Service object\n",
      "  driver = webdriver.Chrome(executable_path=\"C:\\chromedriver.exe\")\n"
     ]
    }
   ]
  },
  {
   "cell_type": "code",
   "execution_count": 286,
   "outputs": [
    {
     "data": {
      "text/plain": "5001"
     },
     "execution_count": 286,
     "metadata": {},
     "output_type": "execute_result"
    }
   ],
   "source": [
    "len(crawl_links)"
   ],
   "metadata": {
    "collapsed": false,
    "pycharm": {
     "name": "#%%\n"
    }
   }
  },
  {
   "cell_type": "code",
   "execution_count": 287,
   "outputs": [],
   "source": [
    "tokopedia_links = crawl_links\n",
    "df_tokopedia = pd.DataFrame({\"tokopedia_links\":tokopedia_links})"
   ],
   "metadata": {
    "collapsed": false,
    "pycharm": {
     "name": "#%%\n"
    }
   }
  },
  {
   "cell_type": "code",
   "execution_count": 288,
   "outputs": [],
   "source": [
    "df_tokopedia.to_csv('tokopedia_links.csv', index=False)"
   ],
   "metadata": {
    "collapsed": false,
    "pycharm": {
     "name": "#%%\n"
    }
   }
  },
  {
   "cell_type": "code",
   "execution_count": 284,
   "outputs": [
    {
     "data": {
      "text/plain": "                                     tokopedia_links\n0  https://www.tokopedia.com/tokohargabuku/al-qur...\n1  https://www.tokopedia.com/morimoto8899/masker-...\n2  https://www.tokopedia.com/otogardpremium/otoga...\n3  https://www.tokopedia.com/jopediaofficial/deti...\n4  https://www.tokopedia.com/scjohnson-son/bebek-...",
      "text/html": "<div>\n<style scoped>\n    .dataframe tbody tr th:only-of-type {\n        vertical-align: middle;\n    }\n\n    .dataframe tbody tr th {\n        vertical-align: top;\n    }\n\n    .dataframe thead th {\n        text-align: right;\n    }\n</style>\n<table border=\"1\" class=\"dataframe\">\n  <thead>\n    <tr style=\"text-align: right;\">\n      <th></th>\n      <th>tokopedia_links</th>\n    </tr>\n  </thead>\n  <tbody>\n    <tr>\n      <th>0</th>\n      <td>https://www.tokopedia.com/tokohargabuku/al-qur...</td>\n    </tr>\n    <tr>\n      <th>1</th>\n      <td>https://www.tokopedia.com/morimoto8899/masker-...</td>\n    </tr>\n    <tr>\n      <th>2</th>\n      <td>https://www.tokopedia.com/otogardpremium/otoga...</td>\n    </tr>\n    <tr>\n      <th>3</th>\n      <td>https://www.tokopedia.com/jopediaofficial/deti...</td>\n    </tr>\n    <tr>\n      <th>4</th>\n      <td>https://www.tokopedia.com/scjohnson-son/bebek-...</td>\n    </tr>\n  </tbody>\n</table>\n</div>"
     },
     "execution_count": 284,
     "metadata": {},
     "output_type": "execute_result"
    }
   ],
   "source": [
    "df_tokped = pd.read_csv('tokopedia_links.csv')\n",
    "df_tokped.head()"
   ],
   "metadata": {
    "collapsed": false,
    "pycharm": {
     "name": "#%%\n"
    }
   }
  }
 ]
}