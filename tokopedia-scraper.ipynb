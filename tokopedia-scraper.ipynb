{
 "cells": [
  {
   "cell_type": "code",
   "execution_count": 467,
   "metadata": {
    "collapsed": true
   },
   "outputs": [],
   "source": [
    "import pandas as pd\n",
    "import requests\n",
    "from bs4 import BeautifulSoup\n",
    "from selenium import webdriver"
   ]
  },
  {
   "cell_type": "code",
   "execution_count": 468,
   "outputs": [],
   "source": [
    "df_tokopedia = pd.read_csv('tokopedia_links.csv')"
   ],
   "metadata": {
    "collapsed": false,
    "pycharm": {
     "name": "#%%\n"
    }
   }
  },
  {
   "cell_type": "code",
   "execution_count": 469,
   "outputs": [],
   "source": [
    "tokopedia_links = df_tokopedia['tokopedia_links'].tolist()"
   ],
   "metadata": {
    "collapsed": false,
    "pycharm": {
     "name": "#%%\n"
    }
   }
  },
  {
   "cell_type": "code",
   "execution_count": null,
   "outputs": [],
   "source": [
    "product_name_list = []\n",
    "rating_list = []\n",
    "category_list = []\n",
    "from_where_list = []\n",
    "satisfaction_rate_list = []\n",
    "img_link_list = []\n",
    "description_list = []\n",
    "amount_sold_list = []\n",
    "original_price_list = []\n",
    "product_price_list = []\n",
    "five_star_list = []\n",
    "four_star_list = []\n",
    "three_star_list = []\n",
    "two_star_list = []\n",
    "one_star_list = []"
   ],
   "metadata": {
    "collapsed": false,
    "pycharm": {
     "name": "#%%\n"
    }
   }
  },
  {
   "cell_type": "code",
   "execution_count": null,
   "outputs": [],
   "source": [
    "for link in tokopedia_links:\n",
    "    driver = webdriver.Chrome(executable_path=\"C:\\chromedriver.exe\")\n",
    "    driver.get(link)\n",
    "    total_height = 1700\n",
    "    i = 0\n",
    "    while i < total_height:\n",
    "        driver.execute_script(\"window.scrollTo(0, {});\".format(i))\n",
    "        i += 4\n",
    "    html = BeautifulSoup(driver.page_source, 'lxml')\n",
    "\n",
    "    #product name\n",
    "    product_name = html.find('h1', {'data-testid':'lblPDPDetailProductName'})\n",
    "    #rating\n",
    "    if html.findAll('span', {'data-testid':'lblPDPDetailProductRatingNumber'}):\n",
    "        rating = html.find('span', {'data-testid':'lblPDPDetailProductRatingNumber'}).text\n",
    "    else:\n",
    "        rating = \"No Rating\"\n",
    "    #category\n",
    "    category = html.findAll('a', {'class':'css-bpjued-unf-heading e1qvo2ff7'})[1]\n",
    "    #from_where\n",
    "    where =  html.find('h2', {'class':'css-qnb3mv-unf-heading e1qvo2ff2'})\n",
    "    from_where = where.find('b').text if where is not None else \"Gudang Terdekat\"\n",
    "    #img link\n",
    "    img_link = html.find('img', {'data-testid':'PDPMainImage'})\n",
    "    #satisfaction_rate\n",
    "    if html.findAll('p', {'class':'css-g3cl0z-unf-heading e1qvo2ff8'}):\n",
    "        satisfaction_rate = html.find('p', {'class':'css-g3cl0z-unf-heading e1qvo2ff8'}).find('span').text[:3]\n",
    "    else:\n",
    "        satisfaction_rate = \"No Satisfaction Rate\"\n",
    "    #product description\n",
    "    description = html.find('div', {'data-testid':'lblPDPDescriptionProduk'})\n",
    "    #amount sold\n",
    "    amount_sold = html.find('div', {'data-testid':'lblPDPDetailProductSoldCounter'})\n",
    "    #original price\n",
    "    original_price = html.find('span', {'data-testid':'lblPDPDetailOriginalPrice'})\n",
    "    #product price\n",
    "    product_price = html.find('div', {'data-testid':'lblPDPDetailProductPrice'})\n",
    "    #ratings - NOTE\n",
    "    if html.findAll('p', {'class':'css-jtcihq-unf-heading e1qvo2ff8'}):\n",
    "        ratings = html.findAll('p', {'class':'css-jtcihq-unf-heading e1qvo2ff8'})\n",
    "        five_star_list.append(ratings[0].text.replace('.',''))\n",
    "        four_star_list.append(ratings[1].text.replace('.',''))\n",
    "        three_star_list.append(ratings[2].text.replace('.',''))\n",
    "        two_star_list.append(ratings[3].text.replace('.',''))\n",
    "        one_star_list.append(ratings[4].text.replace('.',''))\n",
    "    else:\n",
    "        ratings = ['0','0','0','0','0']\n",
    "        five_star_list.append(ratings[0])\n",
    "        four_star_list.append(ratings[1])\n",
    "        three_star_list.append(ratings[2])\n",
    "        two_star_list.append(ratings[3])\n",
    "        one_star_list.append(ratings[4])\n",
    "\n",
    "    product_name_list.append(product_name.text)\n",
    "    rating_list.append(rating)\n",
    "    category_list.append(category.text)\n",
    "    from_where_list.append(from_where)\n",
    "    satisfaction_rate_list.append(satisfaction_rate)\n",
    "    img_link_list.append(img_link['src'])\n",
    "    description_list.append(\"\" if description is None else description.text)\n",
    "    amount_sold_list.append(\"0\" if amount_sold is None else amount_sold.text)\n",
    "    product_price_list.append(product_price.text)\n",
    "    original_price_list.append(product_price.text if original_price is None else original_price.text)"
   ],
   "metadata": {
    "collapsed": false,
    "pycharm": {
     "name": "#%%\n"
    }
   }
  },
  {
   "cell_type": "code",
   "execution_count": null,
   "outputs": [],
   "source": [
    "df_tokopedia = pd.DataFrame({'product_name': product_name_list, 'rating':rating_list, 'category':category_list, 'from_where':from_where_list, 'satisfaction_rate': satisfaction_rate_list, 'img_link': img_link_list, 'description':description_list, 'amount_sold': amount_sold_list, 'original_price':original_price_list, 'product_price':product_price_list, 'five_star':five_star_list, 'four_star':four_star_list, 'three_star':three_star_list, 'two_star':two_star_list, 'one_star':one_star_list})\n",
    "df_tokopedia.to_csv('tokopedia_data_11.csv', index=False)"
   ],
   "metadata": {
    "collapsed": false,
    "pycharm": {
     "name": "#%%\n"
    }
   }
  }
 ],
 "metadata": {
  "kernelspec": {
   "display_name": "Python 3",
   "language": "python",
   "name": "python3"
  },
  "language_info": {
   "codemirror_mode": {
    "name": "ipython",
    "version": 2
   },
   "file_extension": ".py",
   "mimetype": "text/x-python",
   "name": "python",
   "nbconvert_exporter": "python",
   "pygments_lexer": "ipython2",
   "version": "2.7.6"
  }
 },
 "nbformat": 4,
 "nbformat_minor": 0
}