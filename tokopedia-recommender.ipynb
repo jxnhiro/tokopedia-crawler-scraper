{
 "cells": [
  {
   "cell_type": "code",
   "execution_count": 1,
   "metadata": {
    "collapsed": true
   },
   "outputs": [],
   "source": [
    "import pandas as pd"
   ]
  },
  {
   "cell_type": "markdown",
   "source": [
    "<h1>Data Initialization</h1>\n",
    "<h3>Append all 11 scrape results</h3>"
   ],
   "metadata": {
    "collapsed": false,
    "pycharm": {
     "name": "#%% md\n"
    }
   }
  },
  {
   "cell_type": "code",
   "execution_count": 3,
   "outputs": [],
   "source": [
    "#Read all 11 scrape\n",
    "df1 = pd.read_csv('tokopedia_data.csv')\n",
    "df2 = pd.read_csv('tokopedia_data_2.csv')\n",
    "df3 = pd.read_csv('tokopedia_data_3.csv')\n",
    "df4 = pd.read_csv('tokopedia_data_4.csv')\n",
    "df5 = pd.read_csv('tokopedia_data_5.csv')\n",
    "df6 = pd.read_csv('tokopedia_data_6.csv')\n",
    "df7 = pd.read_csv('tokopedia_data_7.csv')\n",
    "df8 = pd.read_csv('tokopedia_data_8.csv')\n",
    "df9 = pd.read_csv('tokopedia_data_9.csv')\n",
    "df10 = pd.read_csv('tokopedia_data_10.csv')\n",
    "df11 = pd.read_csv('tokopedia_data_11.csv')"
   ],
   "metadata": {
    "collapsed": false,
    "pycharm": {
     "name": "#%%\n"
    }
   }
  },
  {
   "cell_type": "code",
   "execution_count": 6,
   "outputs": [],
   "source": [
    "#Concatanate vertically\n",
    "df = pd.concat([df1,df2,df3,df4,df5,df6,df7,df8,df9,df10,df11], ignore_index=True, sort=False)"
   ],
   "metadata": {
    "collapsed": false,
    "pycharm": {
     "name": "#%%\n"
    }
   }
  },
  {
   "cell_type": "code",
   "execution_count": 7,
   "outputs": [
    {
     "data": {
      "text/plain": "                                           product_name rating  \\\n0                    Al-Quran Ash-Shahib ORI A5 - Merah      5   \n1     MASKER ANAK KF94 KOREA KIDS FACE MASK KF 94 AN...    4.9   \n2             Otogard GOLD LINE Wiper Fluid Concentrate    4.9   \n3     Detick 1ml 2ml Obat Kutu Tetes Anjing Kucing 1...    4.9   \n4                        Bebek Kloset Ekstra Kuat 450mL    4.8   \n...                                                 ...    ...   \n5044  Safety Traffic Cone / Kerucut Lalu Lintas Tona...      5   \n5045                                PAKET COD (PENTING)      5   \n5046  Game Boy Retro FC 400 in 1 Gameboy Mini Gamepa...    4.8   \n5047            SENDOK TEH ISI 12 PCS - STAINLESS STEEL    4.9   \n5048                    Stik Stick Xbox 360 Wired kabel    4.8   \n\n                 category          from_where satisfaction_rate  \\\n0                    Buku       Jakarta Timur               99%   \n1     Fashion Anak & Bayi       Jakarta Barat               99%   \n2                Otomotif     Jakarta Selatan               97%   \n3         Perawatan Hewan      Kab. Tangerang               98%   \n4             Pertukangan     Gudang Terdekat               96%   \n...                   ...                 ...               ...   \n5044          Pertukangan      Kab. Tangerang               99%   \n5045                 Buku  Kab. Bandung Barat               100   \n5046               Gaming      Kota Tangerang               95%   \n5047                Dapur       Jakarta Barat               96%   \n5048               Gaming         Kota Bekasi               96%   \n\n                                               img_link  \\\n0     https://images.tokopedia.net/img/cache/500-squ...   \n1     https://images.tokopedia.net/img/cache/500-squ...   \n2     https://images.tokopedia.net/img/cache/500-squ...   \n3     https://images.tokopedia.net/img/cache/500-squ...   \n4     https://images.tokopedia.net/img/cache/500-squ...   \n...                                                 ...   \n5044  https://images.tokopedia.net/img/cache/500-squ...   \n5045  https://images.tokopedia.net/img/cache/500-squ...   \n5046  https://images.tokopedia.net/img/cache/500-squ...   \n5047  https://images.tokopedia.net/img/cache/500-squ...   \n5048  https://images.tokopedia.net/img/cache/500-squ...   \n\n                                            description     amount_sold  \\\n0     PERHATIAN :- Semua buku di TOKO HARGA BUKU ORI...   Terjual 2 rb+   \n1     MASKER EARLOOP KF94 ANAKSUDAH IZIN KEMENKES RI...  Terjual 10 rb+   \n2     - Cairan konsentrat yang berfungsi untuk membe...   Terjual 4 rb+   \n3     DETICK 1ml 2ml Obat Kutu Tetes Anjing Kucing H...  Terjual 10 rb+   \n4     Bebek Kloset merupakan pembersih kloset yang m...   Terjual 5 rb+   \n...                                                 ...             ...   \n5044  Ready Stock - Tonata Rubber Cone 1.8 KgsSpesif...  Terjual 10 rb+   \n5045  Untuk Info silahka  Banyak produk yang bisa di...   Terjual 8 rb+   \n5046  Link Gameboy + Stick : https://www.tokopedia.c...  Terjual 10 rb+   \n5047  SENDOK TEH ISI 12 PCS Panjang 14cmSTAINLESS STEEL   Terjual 1 rb+   \n5048  Paket 1 stik Xbox 360 warna hitam dengan konek...   Terjual 5 rb+   \n\n     original_price product_price five_star  four_star  three_star  two_star  \\\n0          Rp75.000      Rp75.000       657         25           4         0   \n1           Rp6.500       Rp5.000      1621        104           9         1   \n2          Rp72.000      Rp36.000      2339        145          34         4   \n3          Rp24.000      Rp16.950      1161         76          15         1   \n4          Rp21.500      Rp18.920      1102         57          21         6   \n...             ...           ...       ...        ...         ...       ...   \n5044       Rp88.000      Rp88.000      1453         51           4         1   \n5045        Rp1.000       Rp1.000        29          0           0         0   \n5046       Rp72.500      Rp72.500      1654        104          46        10   \n5047        Rp8.000       Rp8.000       229         18           6         1   \n5048      Rp110.000      Rp97.500      1916        229          46        12   \n\n      one_star  \n0            0  \n1            3  \n2           24  \n3            6  \n4           17  \n...        ...  \n5044         1  \n5045         0  \n5046        21  \n5047         1  \n5048        24  \n\n[5049 rows x 15 columns]",
      "text/html": "<div>\n<style scoped>\n    .dataframe tbody tr th:only-of-type {\n        vertical-align: middle;\n    }\n\n    .dataframe tbody tr th {\n        vertical-align: top;\n    }\n\n    .dataframe thead th {\n        text-align: right;\n    }\n</style>\n<table border=\"1\" class=\"dataframe\">\n  <thead>\n    <tr style=\"text-align: right;\">\n      <th></th>\n      <th>product_name</th>\n      <th>rating</th>\n      <th>category</th>\n      <th>from_where</th>\n      <th>satisfaction_rate</th>\n      <th>img_link</th>\n      <th>description</th>\n      <th>amount_sold</th>\n      <th>original_price</th>\n      <th>product_price</th>\n      <th>five_star</th>\n      <th>four_star</th>\n      <th>three_star</th>\n      <th>two_star</th>\n      <th>one_star</th>\n    </tr>\n  </thead>\n  <tbody>\n    <tr>\n      <th>0</th>\n      <td>Al-Quran Ash-Shahib ORI A5 - Merah</td>\n      <td>5</td>\n      <td>Buku</td>\n      <td>Jakarta Timur</td>\n      <td>99%</td>\n      <td>https://images.tokopedia.net/img/cache/500-squ...</td>\n      <td>PERHATIAN :- Semua buku di TOKO HARGA BUKU ORI...</td>\n      <td>Terjual 2 rb+</td>\n      <td>Rp75.000</td>\n      <td>Rp75.000</td>\n      <td>657</td>\n      <td>25</td>\n      <td>4</td>\n      <td>0</td>\n      <td>0</td>\n    </tr>\n    <tr>\n      <th>1</th>\n      <td>MASKER ANAK KF94 KOREA KIDS FACE MASK KF 94 AN...</td>\n      <td>4.9</td>\n      <td>Fashion Anak &amp; Bayi</td>\n      <td>Jakarta Barat</td>\n      <td>99%</td>\n      <td>https://images.tokopedia.net/img/cache/500-squ...</td>\n      <td>MASKER EARLOOP KF94 ANAKSUDAH IZIN KEMENKES RI...</td>\n      <td>Terjual 10 rb+</td>\n      <td>Rp6.500</td>\n      <td>Rp5.000</td>\n      <td>1621</td>\n      <td>104</td>\n      <td>9</td>\n      <td>1</td>\n      <td>3</td>\n    </tr>\n    <tr>\n      <th>2</th>\n      <td>Otogard GOLD LINE Wiper Fluid Concentrate</td>\n      <td>4.9</td>\n      <td>Otomotif</td>\n      <td>Jakarta Selatan</td>\n      <td>97%</td>\n      <td>https://images.tokopedia.net/img/cache/500-squ...</td>\n      <td>- Cairan konsentrat yang berfungsi untuk membe...</td>\n      <td>Terjual 4 rb+</td>\n      <td>Rp72.000</td>\n      <td>Rp36.000</td>\n      <td>2339</td>\n      <td>145</td>\n      <td>34</td>\n      <td>4</td>\n      <td>24</td>\n    </tr>\n    <tr>\n      <th>3</th>\n      <td>Detick 1ml 2ml Obat Kutu Tetes Anjing Kucing 1...</td>\n      <td>4.9</td>\n      <td>Perawatan Hewan</td>\n      <td>Kab. Tangerang</td>\n      <td>98%</td>\n      <td>https://images.tokopedia.net/img/cache/500-squ...</td>\n      <td>DETICK 1ml 2ml Obat Kutu Tetes Anjing Kucing H...</td>\n      <td>Terjual 10 rb+</td>\n      <td>Rp24.000</td>\n      <td>Rp16.950</td>\n      <td>1161</td>\n      <td>76</td>\n      <td>15</td>\n      <td>1</td>\n      <td>6</td>\n    </tr>\n    <tr>\n      <th>4</th>\n      <td>Bebek Kloset Ekstra Kuat 450mL</td>\n      <td>4.8</td>\n      <td>Pertukangan</td>\n      <td>Gudang Terdekat</td>\n      <td>96%</td>\n      <td>https://images.tokopedia.net/img/cache/500-squ...</td>\n      <td>Bebek Kloset merupakan pembersih kloset yang m...</td>\n      <td>Terjual 5 rb+</td>\n      <td>Rp21.500</td>\n      <td>Rp18.920</td>\n      <td>1102</td>\n      <td>57</td>\n      <td>21</td>\n      <td>6</td>\n      <td>17</td>\n    </tr>\n    <tr>\n      <th>...</th>\n      <td>...</td>\n      <td>...</td>\n      <td>...</td>\n      <td>...</td>\n      <td>...</td>\n      <td>...</td>\n      <td>...</td>\n      <td>...</td>\n      <td>...</td>\n      <td>...</td>\n      <td>...</td>\n      <td>...</td>\n      <td>...</td>\n      <td>...</td>\n      <td>...</td>\n    </tr>\n    <tr>\n      <th>5044</th>\n      <td>Safety Traffic Cone / Kerucut Lalu Lintas Tona...</td>\n      <td>5</td>\n      <td>Pertukangan</td>\n      <td>Kab. Tangerang</td>\n      <td>99%</td>\n      <td>https://images.tokopedia.net/img/cache/500-squ...</td>\n      <td>Ready Stock - Tonata Rubber Cone 1.8 KgsSpesif...</td>\n      <td>Terjual 10 rb+</td>\n      <td>Rp88.000</td>\n      <td>Rp88.000</td>\n      <td>1453</td>\n      <td>51</td>\n      <td>4</td>\n      <td>1</td>\n      <td>1</td>\n    </tr>\n    <tr>\n      <th>5045</th>\n      <td>PAKET COD (PENTING)</td>\n      <td>5</td>\n      <td>Buku</td>\n      <td>Kab. Bandung Barat</td>\n      <td>100</td>\n      <td>https://images.tokopedia.net/img/cache/500-squ...</td>\n      <td>Untuk Info silahka  Banyak produk yang bisa di...</td>\n      <td>Terjual 8 rb+</td>\n      <td>Rp1.000</td>\n      <td>Rp1.000</td>\n      <td>29</td>\n      <td>0</td>\n      <td>0</td>\n      <td>0</td>\n      <td>0</td>\n    </tr>\n    <tr>\n      <th>5046</th>\n      <td>Game Boy Retro FC 400 in 1 Gameboy Mini Gamepa...</td>\n      <td>4.8</td>\n      <td>Gaming</td>\n      <td>Kota Tangerang</td>\n      <td>95%</td>\n      <td>https://images.tokopedia.net/img/cache/500-squ...</td>\n      <td>Link Gameboy + Stick : https://www.tokopedia.c...</td>\n      <td>Terjual 10 rb+</td>\n      <td>Rp72.500</td>\n      <td>Rp72.500</td>\n      <td>1654</td>\n      <td>104</td>\n      <td>46</td>\n      <td>10</td>\n      <td>21</td>\n    </tr>\n    <tr>\n      <th>5047</th>\n      <td>SENDOK TEH ISI 12 PCS - STAINLESS STEEL</td>\n      <td>4.9</td>\n      <td>Dapur</td>\n      <td>Jakarta Barat</td>\n      <td>96%</td>\n      <td>https://images.tokopedia.net/img/cache/500-squ...</td>\n      <td>SENDOK TEH ISI 12 PCS Panjang 14cmSTAINLESS STEEL</td>\n      <td>Terjual 1 rb+</td>\n      <td>Rp8.000</td>\n      <td>Rp8.000</td>\n      <td>229</td>\n      <td>18</td>\n      <td>6</td>\n      <td>1</td>\n      <td>1</td>\n    </tr>\n    <tr>\n      <th>5048</th>\n      <td>Stik Stick Xbox 360 Wired kabel</td>\n      <td>4.8</td>\n      <td>Gaming</td>\n      <td>Kota Bekasi</td>\n      <td>96%</td>\n      <td>https://images.tokopedia.net/img/cache/500-squ...</td>\n      <td>Paket 1 stik Xbox 360 warna hitam dengan konek...</td>\n      <td>Terjual 5 rb+</td>\n      <td>Rp110.000</td>\n      <td>Rp97.500</td>\n      <td>1916</td>\n      <td>229</td>\n      <td>46</td>\n      <td>12</td>\n      <td>24</td>\n    </tr>\n  </tbody>\n</table>\n<p>5049 rows × 15 columns</p>\n</div>"
     },
     "execution_count": 7,
     "metadata": {},
     "output_type": "execute_result"
    }
   ],
   "source": [
    "df_tokopedia = df.copy()\n",
    "df_tokopedia"
   ],
   "metadata": {
    "collapsed": false,
    "pycharm": {
     "name": "#%%\n"
    }
   }
  },
  {
   "cell_type": "code",
   "execution_count": 9,
   "outputs": [
    {
     "name": "stdout",
     "output_type": "stream",
     "text": [
      "<class 'pandas.core.frame.DataFrame'>\n",
      "RangeIndex: 5049 entries, 0 to 5048\n",
      "Data columns (total 15 columns):\n",
      " #   Column             Non-Null Count  Dtype \n",
      "---  ------             --------------  ----- \n",
      " 0   product_name       5049 non-null   object\n",
      " 1   rating             5049 non-null   object\n",
      " 2   category           5049 non-null   object\n",
      " 3   from_where         5049 non-null   object\n",
      " 4   satisfaction_rate  5049 non-null   object\n",
      " 5   img_link           5049 non-null   object\n",
      " 6   description        5029 non-null   object\n",
      " 7   amount_sold        5049 non-null   object\n",
      " 8   original_price     5049 non-null   object\n",
      " 9   product_price      5049 non-null   object\n",
      " 10  five_star          5049 non-null   object\n",
      " 11  four_star          5049 non-null   int64 \n",
      " 12  three_star         5049 non-null   int64 \n",
      " 13  two_star           5049 non-null   int64 \n",
      " 14  one_star           5049 non-null   int64 \n",
      "dtypes: int64(4), object(11)\n",
      "memory usage: 591.8+ KB\n"
     ]
    }
   ],
   "source": [
    "df_tokopedia.info()"
   ],
   "metadata": {
    "collapsed": false,
    "pycharm": {
     "name": "#%%\n"
    }
   }
  },
  {
   "cell_type": "code",
   "execution_count": 8,
   "outputs": [
    {
     "data": {
      "text/plain": "129"
     },
     "execution_count": 8,
     "metadata": {},
     "output_type": "execute_result"
    }
   ],
   "source": [
    "df_tokopedia.duplicated(subset=['product_name']).sum()"
   ],
   "metadata": {
    "collapsed": false,
    "pycharm": {
     "name": "#%%\n"
    }
   }
  },
  {
   "cell_type": "code",
   "execution_count": null,
   "outputs": [],
   "source": [],
   "metadata": {
    "collapsed": false,
    "pycharm": {
     "name": "#%%\n"
    }
   }
  }
 ],
 "metadata": {
  "kernelspec": {
   "display_name": "Python 3",
   "language": "python",
   "name": "python3"
  },
  "language_info": {
   "codemirror_mode": {
    "name": "ipython",
    "version": 2
   },
   "file_extension": ".py",
   "mimetype": "text/x-python",
   "name": "python",
   "nbconvert_exporter": "python",
   "pygments_lexer": "ipython2",
   "version": "2.7.6"
  }
 },
 "nbformat": 4,
 "nbformat_minor": 0
}