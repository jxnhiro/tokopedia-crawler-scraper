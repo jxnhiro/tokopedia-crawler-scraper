{
 "cells": [
  {
   "cell_type": "code",
   "execution_count": 131,
   "metadata": {
    "collapsed": true
   },
   "outputs": [],
   "source": [
    "import pandas as pd\n",
    "import re\n",
    "import numpy as np\n",
    "import numpy.matlib\n",
    "import nest_asyncio\n",
    "import nltk.corpus\n",
    "from nltk.corpus import stopwords\n",
    "from nltk.tokenize import word_tokenize\n",
    "from Sastrawi.Stemmer.StemmerFactory import StemmerFactory\n",
    "from sklearn.feature_extraction.text import CountVectorizer\n",
    "from sklearn.feature_extraction.text import TfidfVectorizer\n",
    "from sklearn.metrics.pairwise import cosine_similarity"
   ]
  },
  {
   "cell_type": "markdown",
   "source": [
    "<h1>Data Initialization</h1>\n",
    "<h3>Append all 11 scrape results</h3>"
   ],
   "metadata": {
    "collapsed": false,
    "pycharm": {
     "name": "#%% md\n"
    }
   }
  },
  {
   "cell_type": "code",
   "execution_count": 40,
   "outputs": [],
   "source": [
    "#Read all 11 scrape\n",
    "df1 = pd.read_csv('tokopedia_data.csv')\n",
    "df2 = pd.read_csv('tokopedia_data_2.csv')\n",
    "df3 = pd.read_csv('tokopedia_data_3.csv')\n",
    "df4 = pd.read_csv('tokopedia_data_4.csv')\n",
    "df5 = pd.read_csv('tokopedia_data_5.csv')\n",
    "df6 = pd.read_csv('tokopedia_data_6.csv')\n",
    "df7 = pd.read_csv('tokopedia_data_7.csv')\n",
    "df8 = pd.read_csv('tokopedia_data_8.csv')\n",
    "df9 = pd.read_csv('tokopedia_data_9.csv')\n",
    "df10 = pd.read_csv('tokopedia_data_10.csv')\n",
    "df11 = pd.read_csv('tokopedia_data_11.csv')"
   ],
   "metadata": {
    "collapsed": false,
    "pycharm": {
     "name": "#%%\n"
    }
   }
  },
  {
   "cell_type": "code",
   "execution_count": 41,
   "outputs": [],
   "source": [
    "#Concatanate vertically\n",
    "df = pd.concat([df1,df2,df3,df4,df5,df6,df7,df8,df9,df10,df11], ignore_index=True, sort=False)"
   ],
   "metadata": {
    "collapsed": false,
    "pycharm": {
     "name": "#%%\n"
    }
   }
  },
  {
   "cell_type": "code",
   "execution_count": 42,
   "outputs": [
    {
     "data": {
      "text/plain": "                                           product_name rating  \\\n0                    Al-Quran Ash-Shahib ORI A5 - Merah      5   \n1     MASKER ANAK KF94 KOREA KIDS FACE MASK KF 94 AN...    4.9   \n2             Otogard GOLD LINE Wiper Fluid Concentrate    4.9   \n3     Detick 1ml 2ml Obat Kutu Tetes Anjing Kucing 1...    4.9   \n4                        Bebek Kloset Ekstra Kuat 450mL    4.8   \n...                                                 ...    ...   \n5044  Safety Traffic Cone / Kerucut Lalu Lintas Tona...      5   \n5045                                PAKET COD (PENTING)      5   \n5046  Game Boy Retro FC 400 in 1 Gameboy Mini Gamepa...    4.8   \n5047            SENDOK TEH ISI 12 PCS - STAINLESS STEEL    4.9   \n5048                    Stik Stick Xbox 360 Wired kabel    4.8   \n\n                 category          from_where satisfaction_rate  \\\n0                    Buku       Jakarta Timur               99%   \n1     Fashion Anak & Bayi       Jakarta Barat               99%   \n2                Otomotif     Jakarta Selatan               97%   \n3         Perawatan Hewan      Kab. Tangerang               98%   \n4             Pertukangan     Gudang Terdekat               96%   \n...                   ...                 ...               ...   \n5044          Pertukangan      Kab. Tangerang               99%   \n5045                 Buku  Kab. Bandung Barat               100   \n5046               Gaming      Kota Tangerang               95%   \n5047                Dapur       Jakarta Barat               96%   \n5048               Gaming         Kota Bekasi               96%   \n\n                                               img_link  \\\n0     https://images.tokopedia.net/img/cache/500-squ...   \n1     https://images.tokopedia.net/img/cache/500-squ...   \n2     https://images.tokopedia.net/img/cache/500-squ...   \n3     https://images.tokopedia.net/img/cache/500-squ...   \n4     https://images.tokopedia.net/img/cache/500-squ...   \n...                                                 ...   \n5044  https://images.tokopedia.net/img/cache/500-squ...   \n5045  https://images.tokopedia.net/img/cache/500-squ...   \n5046  https://images.tokopedia.net/img/cache/500-squ...   \n5047  https://images.tokopedia.net/img/cache/500-squ...   \n5048  https://images.tokopedia.net/img/cache/500-squ...   \n\n                                            description     amount_sold  \\\n0     PERHATIAN :- Semua buku di TOKO HARGA BUKU ORI...   Terjual 2 rb+   \n1     MASKER EARLOOP KF94 ANAKSUDAH IZIN KEMENKES RI...  Terjual 10 rb+   \n2     - Cairan konsentrat yang berfungsi untuk membe...   Terjual 4 rb+   \n3     DETICK 1ml 2ml Obat Kutu Tetes Anjing Kucing H...  Terjual 10 rb+   \n4     Bebek Kloset merupakan pembersih kloset yang m...   Terjual 5 rb+   \n...                                                 ...             ...   \n5044  Ready Stock - Tonata Rubber Cone 1.8 KgsSpesif...  Terjual 10 rb+   \n5045  Untuk Info silahka  Banyak produk yang bisa di...   Terjual 8 rb+   \n5046  Link Gameboy + Stick : https://www.tokopedia.c...  Terjual 10 rb+   \n5047  SENDOK TEH ISI 12 PCS Panjang 14cmSTAINLESS STEEL   Terjual 1 rb+   \n5048  Paket 1 stik Xbox 360 warna hitam dengan konek...   Terjual 5 rb+   \n\n     original_price product_price five_star  four_star  three_star  two_star  \\\n0          Rp75.000      Rp75.000       657         25           4         0   \n1           Rp6.500       Rp5.000      1621        104           9         1   \n2          Rp72.000      Rp36.000      2339        145          34         4   \n3          Rp24.000      Rp16.950      1161         76          15         1   \n4          Rp21.500      Rp18.920      1102         57          21         6   \n...             ...           ...       ...        ...         ...       ...   \n5044       Rp88.000      Rp88.000      1453         51           4         1   \n5045        Rp1.000       Rp1.000        29          0           0         0   \n5046       Rp72.500      Rp72.500      1654        104          46        10   \n5047        Rp8.000       Rp8.000       229         18           6         1   \n5048      Rp110.000      Rp97.500      1916        229          46        12   \n\n      one_star  \n0            0  \n1            3  \n2           24  \n3            6  \n4           17  \n...        ...  \n5044         1  \n5045         0  \n5046        21  \n5047         1  \n5048        24  \n\n[5049 rows x 15 columns]",
      "text/html": "<div>\n<style scoped>\n    .dataframe tbody tr th:only-of-type {\n        vertical-align: middle;\n    }\n\n    .dataframe tbody tr th {\n        vertical-align: top;\n    }\n\n    .dataframe thead th {\n        text-align: right;\n    }\n</style>\n<table border=\"1\" class=\"dataframe\">\n  <thead>\n    <tr style=\"text-align: right;\">\n      <th></th>\n      <th>product_name</th>\n      <th>rating</th>\n      <th>category</th>\n      <th>from_where</th>\n      <th>satisfaction_rate</th>\n      <th>img_link</th>\n      <th>description</th>\n      <th>amount_sold</th>\n      <th>original_price</th>\n      <th>product_price</th>\n      <th>five_star</th>\n      <th>four_star</th>\n      <th>three_star</th>\n      <th>two_star</th>\n      <th>one_star</th>\n    </tr>\n  </thead>\n  <tbody>\n    <tr>\n      <th>0</th>\n      <td>Al-Quran Ash-Shahib ORI A5 - Merah</td>\n      <td>5</td>\n      <td>Buku</td>\n      <td>Jakarta Timur</td>\n      <td>99%</td>\n      <td>https://images.tokopedia.net/img/cache/500-squ...</td>\n      <td>PERHATIAN :- Semua buku di TOKO HARGA BUKU ORI...</td>\n      <td>Terjual 2 rb+</td>\n      <td>Rp75.000</td>\n      <td>Rp75.000</td>\n      <td>657</td>\n      <td>25</td>\n      <td>4</td>\n      <td>0</td>\n      <td>0</td>\n    </tr>\n    <tr>\n      <th>1</th>\n      <td>MASKER ANAK KF94 KOREA KIDS FACE MASK KF 94 AN...</td>\n      <td>4.9</td>\n      <td>Fashion Anak &amp; Bayi</td>\n      <td>Jakarta Barat</td>\n      <td>99%</td>\n      <td>https://images.tokopedia.net/img/cache/500-squ...</td>\n      <td>MASKER EARLOOP KF94 ANAKSUDAH IZIN KEMENKES RI...</td>\n      <td>Terjual 10 rb+</td>\n      <td>Rp6.500</td>\n      <td>Rp5.000</td>\n      <td>1621</td>\n      <td>104</td>\n      <td>9</td>\n      <td>1</td>\n      <td>3</td>\n    </tr>\n    <tr>\n      <th>2</th>\n      <td>Otogard GOLD LINE Wiper Fluid Concentrate</td>\n      <td>4.9</td>\n      <td>Otomotif</td>\n      <td>Jakarta Selatan</td>\n      <td>97%</td>\n      <td>https://images.tokopedia.net/img/cache/500-squ...</td>\n      <td>- Cairan konsentrat yang berfungsi untuk membe...</td>\n      <td>Terjual 4 rb+</td>\n      <td>Rp72.000</td>\n      <td>Rp36.000</td>\n      <td>2339</td>\n      <td>145</td>\n      <td>34</td>\n      <td>4</td>\n      <td>24</td>\n    </tr>\n    <tr>\n      <th>3</th>\n      <td>Detick 1ml 2ml Obat Kutu Tetes Anjing Kucing 1...</td>\n      <td>4.9</td>\n      <td>Perawatan Hewan</td>\n      <td>Kab. Tangerang</td>\n      <td>98%</td>\n      <td>https://images.tokopedia.net/img/cache/500-squ...</td>\n      <td>DETICK 1ml 2ml Obat Kutu Tetes Anjing Kucing H...</td>\n      <td>Terjual 10 rb+</td>\n      <td>Rp24.000</td>\n      <td>Rp16.950</td>\n      <td>1161</td>\n      <td>76</td>\n      <td>15</td>\n      <td>1</td>\n      <td>6</td>\n    </tr>\n    <tr>\n      <th>4</th>\n      <td>Bebek Kloset Ekstra Kuat 450mL</td>\n      <td>4.8</td>\n      <td>Pertukangan</td>\n      <td>Gudang Terdekat</td>\n      <td>96%</td>\n      <td>https://images.tokopedia.net/img/cache/500-squ...</td>\n      <td>Bebek Kloset merupakan pembersih kloset yang m...</td>\n      <td>Terjual 5 rb+</td>\n      <td>Rp21.500</td>\n      <td>Rp18.920</td>\n      <td>1102</td>\n      <td>57</td>\n      <td>21</td>\n      <td>6</td>\n      <td>17</td>\n    </tr>\n    <tr>\n      <th>...</th>\n      <td>...</td>\n      <td>...</td>\n      <td>...</td>\n      <td>...</td>\n      <td>...</td>\n      <td>...</td>\n      <td>...</td>\n      <td>...</td>\n      <td>...</td>\n      <td>...</td>\n      <td>...</td>\n      <td>...</td>\n      <td>...</td>\n      <td>...</td>\n      <td>...</td>\n    </tr>\n    <tr>\n      <th>5044</th>\n      <td>Safety Traffic Cone / Kerucut Lalu Lintas Tona...</td>\n      <td>5</td>\n      <td>Pertukangan</td>\n      <td>Kab. Tangerang</td>\n      <td>99%</td>\n      <td>https://images.tokopedia.net/img/cache/500-squ...</td>\n      <td>Ready Stock - Tonata Rubber Cone 1.8 KgsSpesif...</td>\n      <td>Terjual 10 rb+</td>\n      <td>Rp88.000</td>\n      <td>Rp88.000</td>\n      <td>1453</td>\n      <td>51</td>\n      <td>4</td>\n      <td>1</td>\n      <td>1</td>\n    </tr>\n    <tr>\n      <th>5045</th>\n      <td>PAKET COD (PENTING)</td>\n      <td>5</td>\n      <td>Buku</td>\n      <td>Kab. Bandung Barat</td>\n      <td>100</td>\n      <td>https://images.tokopedia.net/img/cache/500-squ...</td>\n      <td>Untuk Info silahka  Banyak produk yang bisa di...</td>\n      <td>Terjual 8 rb+</td>\n      <td>Rp1.000</td>\n      <td>Rp1.000</td>\n      <td>29</td>\n      <td>0</td>\n      <td>0</td>\n      <td>0</td>\n      <td>0</td>\n    </tr>\n    <tr>\n      <th>5046</th>\n      <td>Game Boy Retro FC 400 in 1 Gameboy Mini Gamepa...</td>\n      <td>4.8</td>\n      <td>Gaming</td>\n      <td>Kota Tangerang</td>\n      <td>95%</td>\n      <td>https://images.tokopedia.net/img/cache/500-squ...</td>\n      <td>Link Gameboy + Stick : https://www.tokopedia.c...</td>\n      <td>Terjual 10 rb+</td>\n      <td>Rp72.500</td>\n      <td>Rp72.500</td>\n      <td>1654</td>\n      <td>104</td>\n      <td>46</td>\n      <td>10</td>\n      <td>21</td>\n    </tr>\n    <tr>\n      <th>5047</th>\n      <td>SENDOK TEH ISI 12 PCS - STAINLESS STEEL</td>\n      <td>4.9</td>\n      <td>Dapur</td>\n      <td>Jakarta Barat</td>\n      <td>96%</td>\n      <td>https://images.tokopedia.net/img/cache/500-squ...</td>\n      <td>SENDOK TEH ISI 12 PCS Panjang 14cmSTAINLESS STEEL</td>\n      <td>Terjual 1 rb+</td>\n      <td>Rp8.000</td>\n      <td>Rp8.000</td>\n      <td>229</td>\n      <td>18</td>\n      <td>6</td>\n      <td>1</td>\n      <td>1</td>\n    </tr>\n    <tr>\n      <th>5048</th>\n      <td>Stik Stick Xbox 360 Wired kabel</td>\n      <td>4.8</td>\n      <td>Gaming</td>\n      <td>Kota Bekasi</td>\n      <td>96%</td>\n      <td>https://images.tokopedia.net/img/cache/500-squ...</td>\n      <td>Paket 1 stik Xbox 360 warna hitam dengan konek...</td>\n      <td>Terjual 5 rb+</td>\n      <td>Rp110.000</td>\n      <td>Rp97.500</td>\n      <td>1916</td>\n      <td>229</td>\n      <td>46</td>\n      <td>12</td>\n      <td>24</td>\n    </tr>\n  </tbody>\n</table>\n<p>5049 rows × 15 columns</p>\n</div>"
     },
     "execution_count": 42,
     "metadata": {},
     "output_type": "execute_result"
    }
   ],
   "source": [
    "df_tokopedia = df.copy()\n",
    "df_tokopedia"
   ],
   "metadata": {
    "collapsed": false,
    "pycharm": {
     "name": "#%%\n"
    }
   }
  },
  {
   "cell_type": "code",
   "execution_count": 43,
   "outputs": [
    {
     "name": "stdout",
     "output_type": "stream",
     "text": [
      "<class 'pandas.core.frame.DataFrame'>\n",
      "RangeIndex: 5049 entries, 0 to 5048\n",
      "Data columns (total 15 columns):\n",
      " #   Column             Non-Null Count  Dtype \n",
      "---  ------             --------------  ----- \n",
      " 0   product_name       5049 non-null   object\n",
      " 1   rating             5049 non-null   object\n",
      " 2   category           5049 non-null   object\n",
      " 3   from_where         5049 non-null   object\n",
      " 4   satisfaction_rate  5049 non-null   object\n",
      " 5   img_link           5049 non-null   object\n",
      " 6   description        5029 non-null   object\n",
      " 7   amount_sold        5049 non-null   object\n",
      " 8   original_price     5049 non-null   object\n",
      " 9   product_price      5049 non-null   object\n",
      " 10  five_star          5049 non-null   object\n",
      " 11  four_star          5049 non-null   int64 \n",
      " 12  three_star         5049 non-null   int64 \n",
      " 13  two_star           5049 non-null   int64 \n",
      " 14  one_star           5049 non-null   int64 \n",
      "dtypes: int64(4), object(11)\n",
      "memory usage: 591.8+ KB\n"
     ]
    }
   ],
   "source": [
    "df_tokopedia.info()"
   ],
   "metadata": {
    "collapsed": false,
    "pycharm": {
     "name": "#%%\n"
    }
   }
  },
  {
   "cell_type": "code",
   "execution_count": 53,
   "outputs": [
    {
     "data": {
      "text/plain": "0"
     },
     "execution_count": 53,
     "metadata": {},
     "output_type": "execute_result"
    }
   ],
   "source": [
    "df_tokopedia.drop_duplicates(subset=['product_name'], inplace=True)\n",
    "df_tokopedia.duplicated(subset=['product_name']).sum()"
   ],
   "metadata": {
    "collapsed": false,
    "pycharm": {
     "name": "#%%\n"
    }
   }
  },
  {
   "cell_type": "markdown",
   "source": [
    "<h2>Satisfaction Rate Fix</h2>"
   ],
   "metadata": {
    "collapsed": false,
    "pycharm": {
     "name": "#%% md\n"
    }
   }
  },
  {
   "cell_type": "code",
   "execution_count": 190,
   "outputs": [
    {
     "data": {
      "text/plain": "'100%'"
     },
     "metadata": {},
     "output_type": "display_data"
    }
   ],
   "source": [
    "df_tokopedia.loc[df_tokopedia['satisfaction_rate'] == '100', 'satisfaction_rate'] = '100%'\n",
    "# display(df_tokopedia.iloc[[5045]]['satisfaction_rate'][5045])"
   ],
   "metadata": {
    "collapsed": false,
    "pycharm": {
     "name": "#%%\n"
    }
   }
  },
  {
   "cell_type": "markdown",
   "source": [
    "<h2>Description Pre-Processing</h2>"
   ],
   "metadata": {
    "collapsed": false,
    "pycharm": {
     "name": "#%% md\n"
    }
   }
  },
  {
   "cell_type": "markdown",
   "source": [
    "<b>Cleaning, Tokenizing, Removing Stop Words, Stemming the description</b>"
   ],
   "metadata": {
    "collapsed": false,
    "pycharm": {
     "name": "#%% md\n"
    }
   }
  },
  {
   "cell_type": "code",
   "execution_count": 45,
   "outputs": [],
   "source": [
    "df_tokopedia['cleaned_description'] = [str(x).lower() for x in df_tokopedia['description']]"
   ],
   "metadata": {
    "collapsed": false,
    "pycharm": {
     "name": "#%%\n"
    }
   }
  },
  {
   "cell_type": "code",
   "execution_count": 46,
   "outputs": [
    {
     "data": {
      "text/plain": "                                            description  \\\n0     PERHATIAN :- Semua buku di TOKO HARGA BUKU ORI...   \n1     MASKER EARLOOP KF94 ANAKSUDAH IZIN KEMENKES RI...   \n2     - Cairan konsentrat yang berfungsi untuk membe...   \n3     DETICK 1ml 2ml Obat Kutu Tetes Anjing Kucing H...   \n4     Bebek Kloset merupakan pembersih kloset yang m...   \n...                                                 ...   \n5044  Ready Stock - Tonata Rubber Cone 1.8 KgsSpesif...   \n5045  Untuk Info silahka  Banyak produk yang bisa di...   \n5046  Link Gameboy + Stick : https://www.tokopedia.c...   \n5047  SENDOK TEH ISI 12 PCS Panjang 14cmSTAINLESS STEEL   \n5048  Paket 1 stik Xbox 360 warna hitam dengan konek...   \n\n                                    cleaned_description  \n0     perhatian semua buku di toko harga buku origin...  \n1     masker earloop kf94 anaksudah izin kemenkes ri...  \n2      cairan konsentrat yang berfungsi untuk member...  \n3     detick 1ml 2ml obat kutu tetes anjing kucing h...  \n4     bebek kloset merupakan pembersih kloset yang m...  \n...                                                 ...  \n5044  ready stock tonata rubber cone 1 8 kgsspesifik...  \n5045  untuk info silahka banyak produk yang bisa di ...  \n5046  link gameboy stick stick nya saja 5 warna hite...  \n5047  sendok teh isi 12 pcs panjang 14cmstainless steel  \n5048  paket 1 stik xbox 360 warna hitam dengan konek...  \n\n[5049 rows x 2 columns]",
      "text/html": "<div>\n<style scoped>\n    .dataframe tbody tr th:only-of-type {\n        vertical-align: middle;\n    }\n\n    .dataframe tbody tr th {\n        vertical-align: top;\n    }\n\n    .dataframe thead th {\n        text-align: right;\n    }\n</style>\n<table border=\"1\" class=\"dataframe\">\n  <thead>\n    <tr style=\"text-align: right;\">\n      <th></th>\n      <th>description</th>\n      <th>cleaned_description</th>\n    </tr>\n  </thead>\n  <tbody>\n    <tr>\n      <th>0</th>\n      <td>PERHATIAN :- Semua buku di TOKO HARGA BUKU ORI...</td>\n      <td>perhatian semua buku di toko harga buku origin...</td>\n    </tr>\n    <tr>\n      <th>1</th>\n      <td>MASKER EARLOOP KF94 ANAKSUDAH IZIN KEMENKES RI...</td>\n      <td>masker earloop kf94 anaksudah izin kemenkes ri...</td>\n    </tr>\n    <tr>\n      <th>2</th>\n      <td>- Cairan konsentrat yang berfungsi untuk membe...</td>\n      <td>cairan konsentrat yang berfungsi untuk member...</td>\n    </tr>\n    <tr>\n      <th>3</th>\n      <td>DETICK 1ml 2ml Obat Kutu Tetes Anjing Kucing H...</td>\n      <td>detick 1ml 2ml obat kutu tetes anjing kucing h...</td>\n    </tr>\n    <tr>\n      <th>4</th>\n      <td>Bebek Kloset merupakan pembersih kloset yang m...</td>\n      <td>bebek kloset merupakan pembersih kloset yang m...</td>\n    </tr>\n    <tr>\n      <th>...</th>\n      <td>...</td>\n      <td>...</td>\n    </tr>\n    <tr>\n      <th>5044</th>\n      <td>Ready Stock - Tonata Rubber Cone 1.8 KgsSpesif...</td>\n      <td>ready stock tonata rubber cone 1 8 kgsspesifik...</td>\n    </tr>\n    <tr>\n      <th>5045</th>\n      <td>Untuk Info silahka  Banyak produk yang bisa di...</td>\n      <td>untuk info silahka banyak produk yang bisa di ...</td>\n    </tr>\n    <tr>\n      <th>5046</th>\n      <td>Link Gameboy + Stick : https://www.tokopedia.c...</td>\n      <td>link gameboy stick stick nya saja 5 warna hite...</td>\n    </tr>\n    <tr>\n      <th>5047</th>\n      <td>SENDOK TEH ISI 12 PCS Panjang 14cmSTAINLESS STEEL</td>\n      <td>sendok teh isi 12 pcs panjang 14cmstainless steel</td>\n    </tr>\n    <tr>\n      <th>5048</th>\n      <td>Paket 1 stik Xbox 360 warna hitam dengan konek...</td>\n      <td>paket 1 stik xbox 360 warna hitam dengan konek...</td>\n    </tr>\n  </tbody>\n</table>\n<p>5049 rows × 2 columns</p>\n</div>"
     },
     "execution_count": 46,
     "metadata": {},
     "output_type": "execute_result"
    }
   ],
   "source": [
    "df_tokopedia['cleaned_description'] = [re.sub(r\"www.\\S+\", \" \", str(x)) for x in df_tokopedia['cleaned_description']]\n",
    "df_tokopedia['cleaned_description'] = [re.sub(r\"http\\S+\", \" \", str(x)) for x in df_tokopedia['cleaned_description']]\n",
    "df_tokopedia['cleaned_description'] = [re.sub(\"[^a-zA-Z0-9]\", \" \", str(x)) for x in df_tokopedia['cleaned_description']]\n",
    "df_tokopedia['cleaned_description'] = [re.sub(\"\\s\\s+\", \" \", str(x)) for x in df_tokopedia['cleaned_description']]\n",
    "\n",
    "df_tokopedia[['description','cleaned_description']]"
   ],
   "metadata": {
    "collapsed": false,
    "pycharm": {
     "name": "#%%\n"
    }
   }
  },
  {
   "cell_type": "code",
   "execution_count": 47,
   "outputs": [
    {
     "data": {
      "text/plain": "                                            description  \\\n0     PERHATIAN :- Semua buku di TOKO HARGA BUKU ORI...   \n1     MASKER EARLOOP KF94 ANAKSUDAH IZIN KEMENKES RI...   \n2     - Cairan konsentrat yang berfungsi untuk membe...   \n3     DETICK 1ml 2ml Obat Kutu Tetes Anjing Kucing H...   \n4     Bebek Kloset merupakan pembersih kloset yang m...   \n...                                                 ...   \n5044  Ready Stock - Tonata Rubber Cone 1.8 KgsSpesif...   \n5045  Untuk Info silahka  Banyak produk yang bisa di...   \n5046  Link Gameboy + Stick : https://www.tokopedia.c...   \n5047  SENDOK TEH ISI 12 PCS Panjang 14cmSTAINLESS STEEL   \n5048  Paket 1 stik Xbox 360 warna hitam dengan konek...   \n\n                                    cleaned_description  \n0     [perhatian, semua, buku, di, toko, harga, buku...  \n1     [masker, earloop, kf94, anaksudah, izin, kemen...  \n2     [cairan, konsentrat, yang, berfungsi, untuk, m...  \n3     [detick, 1ml, 2ml, obat, kutu, tetes, anjing, ...  \n4     [bebek, kloset, merupakan, pembersih, kloset, ...  \n...                                                 ...  \n5044  [ready, stock, tonata, rubber, cone, 1, 8, kgs...  \n5045  [untuk, info, silahka, banyak, produk, yang, b...  \n5046  [link, gameboy, stick, stick, nya, saja, 5, wa...  \n5047  [sendok, teh, isi, 12, pcs, panjang, 14cmstain...  \n5048  [paket, 1, stik, xbox, 360, warna, hitam, deng...  \n\n[5049 rows x 2 columns]",
      "text/html": "<div>\n<style scoped>\n    .dataframe tbody tr th:only-of-type {\n        vertical-align: middle;\n    }\n\n    .dataframe tbody tr th {\n        vertical-align: top;\n    }\n\n    .dataframe thead th {\n        text-align: right;\n    }\n</style>\n<table border=\"1\" class=\"dataframe\">\n  <thead>\n    <tr style=\"text-align: right;\">\n      <th></th>\n      <th>description</th>\n      <th>cleaned_description</th>\n    </tr>\n  </thead>\n  <tbody>\n    <tr>\n      <th>0</th>\n      <td>PERHATIAN :- Semua buku di TOKO HARGA BUKU ORI...</td>\n      <td>[perhatian, semua, buku, di, toko, harga, buku...</td>\n    </tr>\n    <tr>\n      <th>1</th>\n      <td>MASKER EARLOOP KF94 ANAKSUDAH IZIN KEMENKES RI...</td>\n      <td>[masker, earloop, kf94, anaksudah, izin, kemen...</td>\n    </tr>\n    <tr>\n      <th>2</th>\n      <td>- Cairan konsentrat yang berfungsi untuk membe...</td>\n      <td>[cairan, konsentrat, yang, berfungsi, untuk, m...</td>\n    </tr>\n    <tr>\n      <th>3</th>\n      <td>DETICK 1ml 2ml Obat Kutu Tetes Anjing Kucing H...</td>\n      <td>[detick, 1ml, 2ml, obat, kutu, tetes, anjing, ...</td>\n    </tr>\n    <tr>\n      <th>4</th>\n      <td>Bebek Kloset merupakan pembersih kloset yang m...</td>\n      <td>[bebek, kloset, merupakan, pembersih, kloset, ...</td>\n    </tr>\n    <tr>\n      <th>...</th>\n      <td>...</td>\n      <td>...</td>\n    </tr>\n    <tr>\n      <th>5044</th>\n      <td>Ready Stock - Tonata Rubber Cone 1.8 KgsSpesif...</td>\n      <td>[ready, stock, tonata, rubber, cone, 1, 8, kgs...</td>\n    </tr>\n    <tr>\n      <th>5045</th>\n      <td>Untuk Info silahka  Banyak produk yang bisa di...</td>\n      <td>[untuk, info, silahka, banyak, produk, yang, b...</td>\n    </tr>\n    <tr>\n      <th>5046</th>\n      <td>Link Gameboy + Stick : https://www.tokopedia.c...</td>\n      <td>[link, gameboy, stick, stick, nya, saja, 5, wa...</td>\n    </tr>\n    <tr>\n      <th>5047</th>\n      <td>SENDOK TEH ISI 12 PCS Panjang 14cmSTAINLESS STEEL</td>\n      <td>[sendok, teh, isi, 12, pcs, panjang, 14cmstain...</td>\n    </tr>\n    <tr>\n      <th>5048</th>\n      <td>Paket 1 stik Xbox 360 warna hitam dengan konek...</td>\n      <td>[paket, 1, stik, xbox, 360, warna, hitam, deng...</td>\n    </tr>\n  </tbody>\n</table>\n<p>5049 rows × 2 columns</p>\n</div>"
     },
     "execution_count": 47,
     "metadata": {},
     "output_type": "execute_result"
    }
   ],
   "source": [
    "df_tokopedia['cleaned_description'] = df_tokopedia.apply(lambda row: word_tokenize(row['cleaned_description']), axis=1)\n",
    "df_tokopedia[['description', 'cleaned_description']]"
   ],
   "metadata": {
    "collapsed": false,
    "pycharm": {
     "name": "#%%\n"
    }
   }
  },
  {
   "cell_type": "code",
   "execution_count": 48,
   "outputs": [
    {
     "name": "stderr",
     "output_type": "stream",
     "text": [
      "[nltk_data] Downloading package stopwords to C:\\Users\\Kenny\n",
      "[nltk_data]     Jinhiro\\AppData\\Roaming\\nltk_data...\n",
      "[nltk_data]   Package stopwords is already up-to-date!\n"
     ]
    },
    {
     "data": {
      "text/plain": "                                            description  \\\n0     PERHATIAN :- Semua buku di TOKO HARGA BUKU ORI...   \n1     MASKER EARLOOP KF94 ANAKSUDAH IZIN KEMENKES RI...   \n2     - Cairan konsentrat yang berfungsi untuk membe...   \n3     DETICK 1ml 2ml Obat Kutu Tetes Anjing Kucing H...   \n4     Bebek Kloset merupakan pembersih kloset yang m...   \n...                                                 ...   \n5044  Ready Stock - Tonata Rubber Cone 1.8 KgsSpesif...   \n5045  Untuk Info silahka  Banyak produk yang bisa di...   \n5046  Link Gameboy + Stick : https://www.tokopedia.c...   \n5047  SENDOK TEH ISI 12 PCS Panjang 14cmSTAINLESS STEEL   \n5048  Paket 1 stik Xbox 360 warna hitam dengan konek...   \n\n                                    cleaned_description  \n0     [perhatian, buku, toko, harga, buku, original,...  \n1     [masker, earloop, kf94, anaksudah, izin, kemen...  \n2     [cairan, konsentrat, berfungsi, membersihan, k...  \n3     [detick, 1ml, 2ml, obat, kutu, tetes, anjing, ...  \n4     [bebek, kloset, pembersih, kloset, mengandung,...  \n...                                                 ...  \n5044  [ready, stock, tonata, rubber, cone, 1, 8, kgs...  \n5045                      [info, silahka, produk, beli]  \n5046  [link, gameboy, stick, stick, nya, 5, warna, h...  \n5047  [sendok, teh, isi, 12, pcs, 14cmstainless, steel]  \n5048  [paket, 1, stik, xbox, 360, warna, hitam, kone...  \n\n[5049 rows x 2 columns]",
      "text/html": "<div>\n<style scoped>\n    .dataframe tbody tr th:only-of-type {\n        vertical-align: middle;\n    }\n\n    .dataframe tbody tr th {\n        vertical-align: top;\n    }\n\n    .dataframe thead th {\n        text-align: right;\n    }\n</style>\n<table border=\"1\" class=\"dataframe\">\n  <thead>\n    <tr style=\"text-align: right;\">\n      <th></th>\n      <th>description</th>\n      <th>cleaned_description</th>\n    </tr>\n  </thead>\n  <tbody>\n    <tr>\n      <th>0</th>\n      <td>PERHATIAN :- Semua buku di TOKO HARGA BUKU ORI...</td>\n      <td>[perhatian, buku, toko, harga, buku, original,...</td>\n    </tr>\n    <tr>\n      <th>1</th>\n      <td>MASKER EARLOOP KF94 ANAKSUDAH IZIN KEMENKES RI...</td>\n      <td>[masker, earloop, kf94, anaksudah, izin, kemen...</td>\n    </tr>\n    <tr>\n      <th>2</th>\n      <td>- Cairan konsentrat yang berfungsi untuk membe...</td>\n      <td>[cairan, konsentrat, berfungsi, membersihan, k...</td>\n    </tr>\n    <tr>\n      <th>3</th>\n      <td>DETICK 1ml 2ml Obat Kutu Tetes Anjing Kucing H...</td>\n      <td>[detick, 1ml, 2ml, obat, kutu, tetes, anjing, ...</td>\n    </tr>\n    <tr>\n      <th>4</th>\n      <td>Bebek Kloset merupakan pembersih kloset yang m...</td>\n      <td>[bebek, kloset, pembersih, kloset, mengandung,...</td>\n    </tr>\n    <tr>\n      <th>...</th>\n      <td>...</td>\n      <td>...</td>\n    </tr>\n    <tr>\n      <th>5044</th>\n      <td>Ready Stock - Tonata Rubber Cone 1.8 KgsSpesif...</td>\n      <td>[ready, stock, tonata, rubber, cone, 1, 8, kgs...</td>\n    </tr>\n    <tr>\n      <th>5045</th>\n      <td>Untuk Info silahka  Banyak produk yang bisa di...</td>\n      <td>[info, silahka, produk, beli]</td>\n    </tr>\n    <tr>\n      <th>5046</th>\n      <td>Link Gameboy + Stick : https://www.tokopedia.c...</td>\n      <td>[link, gameboy, stick, stick, nya, 5, warna, h...</td>\n    </tr>\n    <tr>\n      <th>5047</th>\n      <td>SENDOK TEH ISI 12 PCS Panjang 14cmSTAINLESS STEEL</td>\n      <td>[sendok, teh, isi, 12, pcs, 14cmstainless, steel]</td>\n    </tr>\n    <tr>\n      <th>5048</th>\n      <td>Paket 1 stik Xbox 360 warna hitam dengan konek...</td>\n      <td>[paket, 1, stik, xbox, 360, warna, hitam, kone...</td>\n    </tr>\n  </tbody>\n</table>\n<p>5049 rows × 2 columns</p>\n</div>"
     },
     "execution_count": 48,
     "metadata": {},
     "output_type": "execute_result"
    }
   ],
   "source": [
    "nltk.download('stopwords')\n",
    "stop_words = set(stopwords.words(\"indonesian\"))\n",
    "df_tokopedia['cleaned_description'] = df_tokopedia['cleaned_description'].apply(lambda row: [word for word in row if word not in stop_words])\n",
    "df_tokopedia[['description', 'cleaned_description']]"
   ],
   "metadata": {
    "collapsed": false,
    "pycharm": {
     "name": "#%%\n"
    }
   }
  },
  {
   "cell_type": "code",
   "execution_count": null,
   "outputs": [],
   "source": [
    "factory = StemmerFactory()\n",
    "stemmer = factory.create_stemmer()\n",
    "df_tokopedia['cleaned_description'] = df_tokopedia['cleaned_description'].apply(lambda row: stemmer.stem(' '.join(word for word in row)).split())\n",
    "df_tokopedia[['description', 'cleaned_description']]"
   ],
   "metadata": {
    "collapsed": false,
    "pycharm": {
     "name": "#%%\n",
     "is_executing": true
    }
   }
  },
  {
   "cell_type": "markdown",
   "source": [
    "<h1>Title Pre-Processing</h1>"
   ],
   "metadata": {
    "collapsed": false,
    "pycharm": {
     "name": "#%% md\n"
    }
   }
  },
  {
   "cell_type": "code",
   "execution_count": null,
   "outputs": [],
   "source": [
    "df_tokopedia['cleaned_product_name'] = [str(x).lower() for x in df_tokopedia['product_name']]"
   ],
   "metadata": {
    "collapsed": false,
    "pycharm": {
     "name": "#%%\n",
     "is_executing": true
    }
   }
  },
  {
   "cell_type": "code",
   "execution_count": null,
   "outputs": [],
   "source": [
    "df_tokopedia['cleaned_product_name'] = [re.sub(r\"www.\\S+\", \" \", str(x)) for x in df_tokopedia['cleaned_product_name']]\n",
    "df_tokopedia['cleaned_product_name'] = [re.sub(r\"http\\S+\", \" \", str(x)) for x in df_tokopedia['cleaned_product_name']]\n",
    "df_tokopedia['cleaned_product_name'] = [re.sub(\"[^a-zA-Z0-9]\", \" \", str(x)) for x in df_tokopedia['cleaned_product_name']]\n",
    "df_tokopedia['cleaned_product_name'] = [re.sub(\"\\s\\s+\", \" \", str(x)) for x in df_tokopedia['cleaned_product_name']]\n",
    "\n",
    "df_tokopedia[['product_name','cleaned_product_name']]"
   ],
   "metadata": {
    "collapsed": false,
    "pycharm": {
     "name": "#%%\n",
     "is_executing": true
    }
   }
  },
  {
   "cell_type": "code",
   "execution_count": null,
   "outputs": [],
   "source": [
    "df_tokopedia['cleaned_product_name'] = df_tokopedia.apply(lambda row: word_tokenize(row['cleaned_product_name']), axis=1)\n",
    "df_tokopedia[['product_name', 'cleaned_product_name']]"
   ],
   "metadata": {
    "collapsed": false,
    "pycharm": {
     "name": "#%%\n",
     "is_executing": true
    }
   }
  },
  {
   "cell_type": "code",
   "execution_count": null,
   "outputs": [],
   "source": [
    "df_tokopedia['cleaned_product_name'] = df_tokopedia['cleaned_product_name'].apply(lambda row: [word for word in row if word not in stop_words])\n",
    "df_tokopedia[['product_name', 'cleaned_product_name']]"
   ],
   "metadata": {
    "collapsed": false,
    "pycharm": {
     "name": "#%%\n",
     "is_executing": true
    }
   }
  },
  {
   "cell_type": "code",
   "execution_count": null,
   "outputs": [],
   "source": [
    "factory = StemmerFactory()\n",
    "stemmer = factory.create_stemmer()\n",
    "df_tokopedia['cleaned_product_name'] = df_tokopedia['cleaned_product_name'].apply(lambda row: stemmer.stem(' '.join(word for word in row)).split())\n",
    "df_tokopedia[['product_name', 'cleaned_product_name']]"
   ],
   "metadata": {
    "collapsed": false,
    "pycharm": {
     "name": "#%%\n",
     "is_executing": true
    }
   }
  },
  {
   "cell_type": "markdown",
   "source": [
    "<h2>Category Pre-processing</h2>"
   ],
   "metadata": {
    "collapsed": false,
    "pycharm": {
     "name": "#%% md\n"
    }
   }
  },
  {
   "cell_type": "code",
   "execution_count": 147,
   "outputs": [
    {
     "data": {
      "text/plain": "0                      Buku\n1       Fashion Anak & Bayi\n2                  Otomotif\n3           Perawatan Hewan\n4               Pertukangan\n               ...         \n5044            Pertukangan\n5045                   Buku\n5046                 Gaming\n5047                  Dapur\n5048                 Gaming\nName: category, Length: 5029, dtype: object"
     },
     "execution_count": 147,
     "metadata": {},
     "output_type": "execute_result"
    }
   ],
   "source": [
    "df_tokopedia['category']"
   ],
   "metadata": {
    "collapsed": false,
    "pycharm": {
     "name": "#%%\n"
    }
   }
  },
  {
   "cell_type": "code",
   "execution_count": 174,
   "outputs": [],
   "source": [
    "df_tokopedia['tagged_category'] = 'kategori-'+df_tokopedia['category'].str.lower()"
   ],
   "metadata": {
    "collapsed": false,
    "pycharm": {
     "name": "#%%\n"
    }
   }
  },
  {
   "cell_type": "code",
   "execution_count": 175,
   "outputs": [],
   "source": [
    "df_tokopedia['tagged_category'] = df_tokopedia['tagged_category'].str.replace(' ', '')"
   ],
   "metadata": {
    "collapsed": false,
    "pycharm": {
     "name": "#%%\n"
    }
   }
  },
  {
   "cell_type": "code",
   "execution_count": 176,
   "outputs": [
    {
     "data": {
      "text/plain": "0                   kategori-buku\n1       kategori-fashionanak-bayi\n2               kategori-otomotif\n3         kategori-perawatanhewan\n4            kategori-pertukangan\n                  ...            \n5044         kategori-pertukangan\n5045                kategori-buku\n5046              kategori-gaming\n5047               kategori-dapur\n5048              kategori-gaming\nName: tagged_category, Length: 5049, dtype: object"
     },
     "execution_count": 176,
     "metadata": {},
     "output_type": "execute_result"
    }
   ],
   "source": [
    "df_tokopedia['tagged_category'] = df_tokopedia['tagged_category'].str.replace('&', '-')\n",
    "df_tokopedia['tagged_category']"
   ],
   "metadata": {
    "collapsed": false,
    "pycharm": {
     "name": "#%%\n"
    }
   }
  },
  {
   "cell_type": "code",
   "execution_count": 177,
   "outputs": [
    {
     "data": {
      "text/plain": "                                           product_name rating  \\\n0                    Al-Quran Ash-Shahib ORI A5 - Merah      5   \n1     MASKER ANAK KF94 KOREA KIDS FACE MASK KF 94 AN...    4.9   \n2             Otogard GOLD LINE Wiper Fluid Concentrate    4.9   \n3     Detick 1ml 2ml Obat Kutu Tetes Anjing Kucing 1...    4.9   \n4                        Bebek Kloset Ekstra Kuat 450mL    4.8   \n...                                                 ...    ...   \n5044  Safety Traffic Cone / Kerucut Lalu Lintas Tona...      5   \n5045                                PAKET COD (PENTING)      5   \n5046  Game Boy Retro FC 400 in 1 Gameboy Mini Gamepa...    4.8   \n5047            SENDOK TEH ISI 12 PCS - STAINLESS STEEL    4.9   \n5048                    Stik Stick Xbox 360 Wired kabel    4.8   \n\n                 category          from_where satisfaction_rate  \\\n0                    Buku       Jakarta Timur               99%   \n1     Fashion Anak & Bayi       Jakarta Barat               99%   \n2                Otomotif     Jakarta Selatan               97%   \n3         Perawatan Hewan      Kab. Tangerang               98%   \n4             Pertukangan     Gudang Terdekat               96%   \n...                   ...                 ...               ...   \n5044          Pertukangan      Kab. Tangerang               99%   \n5045                 Buku  Kab. Bandung Barat               100   \n5046               Gaming      Kota Tangerang               95%   \n5047                Dapur       Jakarta Barat               96%   \n5048               Gaming         Kota Bekasi               96%   \n\n                                               img_link  \\\n0     https://images.tokopedia.net/img/cache/500-squ...   \n1     https://images.tokopedia.net/img/cache/500-squ...   \n2     https://images.tokopedia.net/img/cache/500-squ...   \n3     https://images.tokopedia.net/img/cache/500-squ...   \n4     https://images.tokopedia.net/img/cache/500-squ...   \n...                                                 ...   \n5044  https://images.tokopedia.net/img/cache/500-squ...   \n5045  https://images.tokopedia.net/img/cache/500-squ...   \n5046  https://images.tokopedia.net/img/cache/500-squ...   \n5047  https://images.tokopedia.net/img/cache/500-squ...   \n5048  https://images.tokopedia.net/img/cache/500-squ...   \n\n                                            description     amount_sold  \\\n0     PERHATIAN :- Semua buku di TOKO HARGA BUKU ORI...   Terjual 2 rb+   \n1     MASKER EARLOOP KF94 ANAKSUDAH IZIN KEMENKES RI...  Terjual 10 rb+   \n2     - Cairan konsentrat yang berfungsi untuk membe...   Terjual 4 rb+   \n3     DETICK 1ml 2ml Obat Kutu Tetes Anjing Kucing H...  Terjual 10 rb+   \n4     Bebek Kloset merupakan pembersih kloset yang m...   Terjual 5 rb+   \n...                                                 ...             ...   \n5044  Ready Stock - Tonata Rubber Cone 1.8 KgsSpesif...  Terjual 10 rb+   \n5045  Untuk Info silahka  Banyak produk yang bisa di...   Terjual 8 rb+   \n5046  Link Gameboy + Stick : https://www.tokopedia.c...  Terjual 10 rb+   \n5047  SENDOK TEH ISI 12 PCS Panjang 14cmSTAINLESS STEEL   Terjual 1 rb+   \n5048  Paket 1 stik Xbox 360 warna hitam dengan konek...   Terjual 5 rb+   \n\n     original_price product_price five_star  four_star  three_star  two_star  \\\n0          Rp75.000      Rp75.000       657         25           4         0   \n1           Rp6.500       Rp5.000      1621        104           9         1   \n2          Rp72.000      Rp36.000      2339        145          34         4   \n3          Rp24.000      Rp16.950      1161         76          15         1   \n4          Rp21.500      Rp18.920      1102         57          21         6   \n...             ...           ...       ...        ...         ...       ...   \n5044       Rp88.000      Rp88.000      1453         51           4         1   \n5045        Rp1.000       Rp1.000        29          0           0         0   \n5046       Rp72.500      Rp72.500      1654        104          46        10   \n5047        Rp8.000       Rp8.000       229         18           6         1   \n5048      Rp110.000      Rp97.500      1916        229          46        12   \n\n      one_star                                cleaned_description  \\\n0            0  perhati buku toko harga buku original asli lan...   \n1            3  masker earloop kf94 anaksudah izin kemenkes ri...   \n2           24  cair konsentrat fungsi bersih kaca noda kotor ...   \n3            6  detick 1ml 2ml obat kutu tetes anjing kucing h...   \n4           17  bebek kloset bersih kloset kandung germinex bu...   \n...        ...                                                ...   \n5044         1  ready stock tonata rubber cone 1 8 kgsspesifik...   \n5045         0                           info silahka produk beli   \n5046        21  link gameboy stick stick nya 5 warna hitem mer...   \n5047         1          sendok teh isi 12 pcs 14cmstainless steel   \n5048        24  paket 1 stik xbox 360 warna hitam koneksi 1 ka...   \n\n                                   cleaned_product_name  \\\n0                      al quran ash shahib ori a5 merah   \n1     masker anak kf94 korea kids face mask kf 94 an...   \n2             otogard gold line wiper fluid concentrate   \n3     detick 1ml 2ml obat kutu tetes anjing kucing 1...   \n4                        bebek kloset ekstra kuat 450ml   \n...                                                 ...   \n5044  safety traffic cone kerucut lintas tonata 1 8 ...   \n5045                                          paket cod   \n5046  game boy retro fc 400 in 1 gameboy mini gamepa...   \n5047              sendok teh isi 12 pcs stainless steel   \n5048                    stik stick xbox 360 wired kabel   \n\n                tagged_category  \n0                 kategori-buku  \n1     kategori-fashionanak-bayi  \n2             kategori-otomotif  \n3       kategori-perawatanhewan  \n4          kategori-pertukangan  \n...                         ...  \n5044       kategori-pertukangan  \n5045              kategori-buku  \n5046            kategori-gaming  \n5047             kategori-dapur  \n5048            kategori-gaming  \n\n[5049 rows x 18 columns]",
      "text/html": "<div>\n<style scoped>\n    .dataframe tbody tr th:only-of-type {\n        vertical-align: middle;\n    }\n\n    .dataframe tbody tr th {\n        vertical-align: top;\n    }\n\n    .dataframe thead th {\n        text-align: right;\n    }\n</style>\n<table border=\"1\" class=\"dataframe\">\n  <thead>\n    <tr style=\"text-align: right;\">\n      <th></th>\n      <th>product_name</th>\n      <th>rating</th>\n      <th>category</th>\n      <th>from_where</th>\n      <th>satisfaction_rate</th>\n      <th>img_link</th>\n      <th>description</th>\n      <th>amount_sold</th>\n      <th>original_price</th>\n      <th>product_price</th>\n      <th>five_star</th>\n      <th>four_star</th>\n      <th>three_star</th>\n      <th>two_star</th>\n      <th>one_star</th>\n      <th>cleaned_description</th>\n      <th>cleaned_product_name</th>\n      <th>tagged_category</th>\n    </tr>\n  </thead>\n  <tbody>\n    <tr>\n      <th>0</th>\n      <td>Al-Quran Ash-Shahib ORI A5 - Merah</td>\n      <td>5</td>\n      <td>Buku</td>\n      <td>Jakarta Timur</td>\n      <td>99%</td>\n      <td>https://images.tokopedia.net/img/cache/500-squ...</td>\n      <td>PERHATIAN :- Semua buku di TOKO HARGA BUKU ORI...</td>\n      <td>Terjual 2 rb+</td>\n      <td>Rp75.000</td>\n      <td>Rp75.000</td>\n      <td>657</td>\n      <td>25</td>\n      <td>4</td>\n      <td>0</td>\n      <td>0</td>\n      <td>perhati buku toko harga buku original asli lan...</td>\n      <td>al quran ash shahib ori a5 merah</td>\n      <td>kategori-buku</td>\n    </tr>\n    <tr>\n      <th>1</th>\n      <td>MASKER ANAK KF94 KOREA KIDS FACE MASK KF 94 AN...</td>\n      <td>4.9</td>\n      <td>Fashion Anak &amp; Bayi</td>\n      <td>Jakarta Barat</td>\n      <td>99%</td>\n      <td>https://images.tokopedia.net/img/cache/500-squ...</td>\n      <td>MASKER EARLOOP KF94 ANAKSUDAH IZIN KEMENKES RI...</td>\n      <td>Terjual 10 rb+</td>\n      <td>Rp6.500</td>\n      <td>Rp5.000</td>\n      <td>1621</td>\n      <td>104</td>\n      <td>9</td>\n      <td>1</td>\n      <td>3</td>\n      <td>masker earloop kf94 anaksudah izin kemenkes ri...</td>\n      <td>masker anak kf94 korea kids face mask kf 94 an...</td>\n      <td>kategori-fashionanak-bayi</td>\n    </tr>\n    <tr>\n      <th>2</th>\n      <td>Otogard GOLD LINE Wiper Fluid Concentrate</td>\n      <td>4.9</td>\n      <td>Otomotif</td>\n      <td>Jakarta Selatan</td>\n      <td>97%</td>\n      <td>https://images.tokopedia.net/img/cache/500-squ...</td>\n      <td>- Cairan konsentrat yang berfungsi untuk membe...</td>\n      <td>Terjual 4 rb+</td>\n      <td>Rp72.000</td>\n      <td>Rp36.000</td>\n      <td>2339</td>\n      <td>145</td>\n      <td>34</td>\n      <td>4</td>\n      <td>24</td>\n      <td>cair konsentrat fungsi bersih kaca noda kotor ...</td>\n      <td>otogard gold line wiper fluid concentrate</td>\n      <td>kategori-otomotif</td>\n    </tr>\n    <tr>\n      <th>3</th>\n      <td>Detick 1ml 2ml Obat Kutu Tetes Anjing Kucing 1...</td>\n      <td>4.9</td>\n      <td>Perawatan Hewan</td>\n      <td>Kab. Tangerang</td>\n      <td>98%</td>\n      <td>https://images.tokopedia.net/img/cache/500-squ...</td>\n      <td>DETICK 1ml 2ml Obat Kutu Tetes Anjing Kucing H...</td>\n      <td>Terjual 10 rb+</td>\n      <td>Rp24.000</td>\n      <td>Rp16.950</td>\n      <td>1161</td>\n      <td>76</td>\n      <td>15</td>\n      <td>1</td>\n      <td>6</td>\n      <td>detick 1ml 2ml obat kutu tetes anjing kucing h...</td>\n      <td>detick 1ml 2ml obat kutu tetes anjing kucing 1...</td>\n      <td>kategori-perawatanhewan</td>\n    </tr>\n    <tr>\n      <th>4</th>\n      <td>Bebek Kloset Ekstra Kuat 450mL</td>\n      <td>4.8</td>\n      <td>Pertukangan</td>\n      <td>Gudang Terdekat</td>\n      <td>96%</td>\n      <td>https://images.tokopedia.net/img/cache/500-squ...</td>\n      <td>Bebek Kloset merupakan pembersih kloset yang m...</td>\n      <td>Terjual 5 rb+</td>\n      <td>Rp21.500</td>\n      <td>Rp18.920</td>\n      <td>1102</td>\n      <td>57</td>\n      <td>21</td>\n      <td>6</td>\n      <td>17</td>\n      <td>bebek kloset bersih kloset kandung germinex bu...</td>\n      <td>bebek kloset ekstra kuat 450ml</td>\n      <td>kategori-pertukangan</td>\n    </tr>\n    <tr>\n      <th>...</th>\n      <td>...</td>\n      <td>...</td>\n      <td>...</td>\n      <td>...</td>\n      <td>...</td>\n      <td>...</td>\n      <td>...</td>\n      <td>...</td>\n      <td>...</td>\n      <td>...</td>\n      <td>...</td>\n      <td>...</td>\n      <td>...</td>\n      <td>...</td>\n      <td>...</td>\n      <td>...</td>\n      <td>...</td>\n      <td>...</td>\n    </tr>\n    <tr>\n      <th>5044</th>\n      <td>Safety Traffic Cone / Kerucut Lalu Lintas Tona...</td>\n      <td>5</td>\n      <td>Pertukangan</td>\n      <td>Kab. Tangerang</td>\n      <td>99%</td>\n      <td>https://images.tokopedia.net/img/cache/500-squ...</td>\n      <td>Ready Stock - Tonata Rubber Cone 1.8 KgsSpesif...</td>\n      <td>Terjual 10 rb+</td>\n      <td>Rp88.000</td>\n      <td>Rp88.000</td>\n      <td>1453</td>\n      <td>51</td>\n      <td>4</td>\n      <td>1</td>\n      <td>1</td>\n      <td>ready stock tonata rubber cone 1 8 kgsspesifik...</td>\n      <td>safety traffic cone kerucut lintas tonata 1 8 ...</td>\n      <td>kategori-pertukangan</td>\n    </tr>\n    <tr>\n      <th>5045</th>\n      <td>PAKET COD (PENTING)</td>\n      <td>5</td>\n      <td>Buku</td>\n      <td>Kab. Bandung Barat</td>\n      <td>100</td>\n      <td>https://images.tokopedia.net/img/cache/500-squ...</td>\n      <td>Untuk Info silahka  Banyak produk yang bisa di...</td>\n      <td>Terjual 8 rb+</td>\n      <td>Rp1.000</td>\n      <td>Rp1.000</td>\n      <td>29</td>\n      <td>0</td>\n      <td>0</td>\n      <td>0</td>\n      <td>0</td>\n      <td>info silahka produk beli</td>\n      <td>paket cod</td>\n      <td>kategori-buku</td>\n    </tr>\n    <tr>\n      <th>5046</th>\n      <td>Game Boy Retro FC 400 in 1 Gameboy Mini Gamepa...</td>\n      <td>4.8</td>\n      <td>Gaming</td>\n      <td>Kota Tangerang</td>\n      <td>95%</td>\n      <td>https://images.tokopedia.net/img/cache/500-squ...</td>\n      <td>Link Gameboy + Stick : https://www.tokopedia.c...</td>\n      <td>Terjual 10 rb+</td>\n      <td>Rp72.500</td>\n      <td>Rp72.500</td>\n      <td>1654</td>\n      <td>104</td>\n      <td>46</td>\n      <td>10</td>\n      <td>21</td>\n      <td>link gameboy stick stick nya 5 warna hitem mer...</td>\n      <td>game boy retro fc 400 in 1 gameboy mini gamepa...</td>\n      <td>kategori-gaming</td>\n    </tr>\n    <tr>\n      <th>5047</th>\n      <td>SENDOK TEH ISI 12 PCS - STAINLESS STEEL</td>\n      <td>4.9</td>\n      <td>Dapur</td>\n      <td>Jakarta Barat</td>\n      <td>96%</td>\n      <td>https://images.tokopedia.net/img/cache/500-squ...</td>\n      <td>SENDOK TEH ISI 12 PCS Panjang 14cmSTAINLESS STEEL</td>\n      <td>Terjual 1 rb+</td>\n      <td>Rp8.000</td>\n      <td>Rp8.000</td>\n      <td>229</td>\n      <td>18</td>\n      <td>6</td>\n      <td>1</td>\n      <td>1</td>\n      <td>sendok teh isi 12 pcs 14cmstainless steel</td>\n      <td>sendok teh isi 12 pcs stainless steel</td>\n      <td>kategori-dapur</td>\n    </tr>\n    <tr>\n      <th>5048</th>\n      <td>Stik Stick Xbox 360 Wired kabel</td>\n      <td>4.8</td>\n      <td>Gaming</td>\n      <td>Kota Bekasi</td>\n      <td>96%</td>\n      <td>https://images.tokopedia.net/img/cache/500-squ...</td>\n      <td>Paket 1 stik Xbox 360 warna hitam dengan konek...</td>\n      <td>Terjual 5 rb+</td>\n      <td>Rp110.000</td>\n      <td>Rp97.500</td>\n      <td>1916</td>\n      <td>229</td>\n      <td>46</td>\n      <td>12</td>\n      <td>24</td>\n      <td>paket 1 stik xbox 360 warna hitam koneksi 1 ka...</td>\n      <td>stik stick xbox 360 wired kabel</td>\n      <td>kategori-gaming</td>\n    </tr>\n  </tbody>\n</table>\n<p>5049 rows × 18 columns</p>\n</div>"
     },
     "execution_count": 177,
     "metadata": {},
     "output_type": "execute_result"
    }
   ],
   "source": [
    "df_tokopedia"
   ],
   "metadata": {
    "collapsed": false,
    "pycharm": {
     "name": "#%%\n"
    }
   }
  },
  {
   "cell_type": "markdown",
   "source": [
    "<h2>From_where Pre-Processing</h2>"
   ],
   "metadata": {
    "collapsed": false,
    "pycharm": {
     "name": "#%% md\n"
    }
   }
  },
  {
   "cell_type": "code",
   "execution_count": 198,
   "outputs": [],
   "source": [
    "df_tokopedia['tagged_location'] = 'lokasi-'+df_tokopedia['from_where'].str.lower()"
   ],
   "metadata": {
    "collapsed": false,
    "pycharm": {
     "name": "#%%\n"
    }
   }
  },
  {
   "cell_type": "code",
   "execution_count": 199,
   "outputs": [],
   "source": [
    "df_tokopedia['tagged_location'] = df_tokopedia['tagged_location'].str.replace(' ', '')"
   ],
   "metadata": {
    "collapsed": false,
    "pycharm": {
     "name": "#%%\n"
    }
   }
  },
  {
   "cell_type": "code",
   "execution_count": 200,
   "outputs": [
    {
     "data": {
      "text/plain": "0           lokasi-jakartatimur\n1           lokasi-jakartabarat\n2         lokasi-jakartaselatan\n3          lokasi-kab.tangerang\n4         lokasi-gudangterdekat\n                 ...           \n5044       lokasi-kab.tangerang\n5045    lokasi-kab.bandungbarat\n5046       lokasi-kotatangerang\n5047        lokasi-jakartabarat\n5048          lokasi-kotabekasi\nName: tagged_location, Length: 5049, dtype: object"
     },
     "execution_count": 200,
     "metadata": {},
     "output_type": "execute_result"
    }
   ],
   "source": [
    "df_tokopedia['tagged_location']"
   ],
   "metadata": {
    "collapsed": false,
    "pycharm": {
     "name": "#%%\n"
    }
   }
  },
  {
   "cell_type": "markdown",
   "source": [
    "<h2>Finalizing list to string</h2>"
   ],
   "metadata": {
    "collapsed": false,
    "pycharm": {
     "name": "#%% md\n"
    }
   }
  },
  {
   "cell_type": "code",
   "execution_count": null,
   "outputs": [],
   "source": [
    "df_tokopedia['cleaned_product_name'] = df_tokopedia['cleaned_product_name'].apply(eval).apply(' '.join)\n",
    "df_tokopedia['cleaned_description'] = df_tokopedia['cleaned_description'].apply(eval).apply(' '.join)"
   ],
   "metadata": {
    "collapsed": false,
    "pycharm": {
     "name": "#%%\n"
    }
   }
  },
  {
   "cell_type": "code",
   "execution_count": 203,
   "outputs": [
    {
     "data": {
      "text/plain": "                                           product_name rating  \\\n0                    Al-Quran Ash-Shahib ORI A5 - Merah      5   \n1     MASKER ANAK KF94 KOREA KIDS FACE MASK KF 94 AN...    4.9   \n2             Otogard GOLD LINE Wiper Fluid Concentrate    4.9   \n3     Detick 1ml 2ml Obat Kutu Tetes Anjing Kucing 1...    4.9   \n4                        Bebek Kloset Ekstra Kuat 450mL    4.8   \n...                                                 ...    ...   \n5044  Safety Traffic Cone / Kerucut Lalu Lintas Tona...      5   \n5045                                PAKET COD (PENTING)      5   \n5046  Game Boy Retro FC 400 in 1 Gameboy Mini Gamepa...    4.8   \n5047            SENDOK TEH ISI 12 PCS - STAINLESS STEEL    4.9   \n5048                    Stik Stick Xbox 360 Wired kabel    4.8   \n\n                 category          from_where satisfaction_rate  \\\n0                    Buku       Jakarta Timur               99%   \n1     Fashion Anak & Bayi       Jakarta Barat               99%   \n2                Otomotif     Jakarta Selatan               97%   \n3         Perawatan Hewan      Kab. Tangerang               98%   \n4             Pertukangan     Gudang Terdekat               96%   \n...                   ...                 ...               ...   \n5044          Pertukangan      Kab. Tangerang               99%   \n5045                 Buku  Kab. Bandung Barat              100%   \n5046               Gaming      Kota Tangerang               95%   \n5047                Dapur       Jakarta Barat               96%   \n5048               Gaming         Kota Bekasi               96%   \n\n                                               img_link  \\\n0     https://images.tokopedia.net/img/cache/500-squ...   \n1     https://images.tokopedia.net/img/cache/500-squ...   \n2     https://images.tokopedia.net/img/cache/500-squ...   \n3     https://images.tokopedia.net/img/cache/500-squ...   \n4     https://images.tokopedia.net/img/cache/500-squ...   \n...                                                 ...   \n5044  https://images.tokopedia.net/img/cache/500-squ...   \n5045  https://images.tokopedia.net/img/cache/500-squ...   \n5046  https://images.tokopedia.net/img/cache/500-squ...   \n5047  https://images.tokopedia.net/img/cache/500-squ...   \n5048  https://images.tokopedia.net/img/cache/500-squ...   \n\n                                            description     amount_sold  \\\n0     PERHATIAN :- Semua buku di TOKO HARGA BUKU ORI...   Terjual 2 rb+   \n1     MASKER EARLOOP KF94 ANAKSUDAH IZIN KEMENKES RI...  Terjual 10 rb+   \n2     - Cairan konsentrat yang berfungsi untuk membe...   Terjual 4 rb+   \n3     DETICK 1ml 2ml Obat Kutu Tetes Anjing Kucing H...  Terjual 10 rb+   \n4     Bebek Kloset merupakan pembersih kloset yang m...   Terjual 5 rb+   \n...                                                 ...             ...   \n5044  Ready Stock - Tonata Rubber Cone 1.8 KgsSpesif...  Terjual 10 rb+   \n5045  Untuk Info silahka  Banyak produk yang bisa di...   Terjual 8 rb+   \n5046  Link Gameboy + Stick : https://www.tokopedia.c...  Terjual 10 rb+   \n5047  SENDOK TEH ISI 12 PCS Panjang 14cmSTAINLESS STEEL   Terjual 1 rb+   \n5048  Paket 1 stik Xbox 360 warna hitam dengan konek...   Terjual 5 rb+   \n\n     original_price product_price five_star  four_star  three_star  two_star  \\\n0          Rp75.000      Rp75.000       657         25           4         0   \n1           Rp6.500       Rp5.000      1621        104           9         1   \n2          Rp72.000      Rp36.000      2339        145          34         4   \n3          Rp24.000      Rp16.950      1161         76          15         1   \n4          Rp21.500      Rp18.920      1102         57          21         6   \n...             ...           ...       ...        ...         ...       ...   \n5044       Rp88.000      Rp88.000      1453         51           4         1   \n5045        Rp1.000       Rp1.000        29          0           0         0   \n5046       Rp72.500      Rp72.500      1654        104          46        10   \n5047        Rp8.000       Rp8.000       229         18           6         1   \n5048      Rp110.000      Rp97.500      1916        229          46        12   \n\n      one_star                                cleaned_description  \\\n0            0  perhati buku toko harga buku original asli lan...   \n1            3  masker earloop kf94 anaksudah izin kemenkes ri...   \n2           24  cair konsentrat fungsi bersih kaca noda kotor ...   \n3            6  detick 1ml 2ml obat kutu tetes anjing kucing h...   \n4           17  bebek kloset bersih kloset kandung germinex bu...   \n...        ...                                                ...   \n5044         1  ready stock tonata rubber cone 1 8 kgsspesifik...   \n5045         0                           info silahka produk beli   \n5046        21  link gameboy stick stick nya 5 warna hitem mer...   \n5047         1          sendok teh isi 12 pcs 14cmstainless steel   \n5048        24  paket 1 stik xbox 360 warna hitam koneksi 1 ka...   \n\n                                   cleaned_product_name  \\\n0                      al quran ash shahib ori a5 merah   \n1     masker anak kf94 korea kids face mask kf 94 an...   \n2             otogard gold line wiper fluid concentrate   \n3     detick 1ml 2ml obat kutu tetes anjing kucing 1...   \n4                        bebek kloset ekstra kuat 450ml   \n...                                                 ...   \n5044  safety traffic cone kerucut lintas tonata 1 8 ...   \n5045                                          paket cod   \n5046  game boy retro fc 400 in 1 gameboy mini gamepa...   \n5047              sendok teh isi 12 pcs stainless steel   \n5048                    stik stick xbox 360 wired kabel   \n\n                tagged_category          tagged_location  \\\n0                 kategori-buku      lokasi-jakartatimur   \n1     kategori-fashionanak-bayi      lokasi-jakartabarat   \n2             kategori-otomotif    lokasi-jakartaselatan   \n3       kategori-perawatanhewan     lokasi-kab.tangerang   \n4          kategori-pertukangan    lokasi-gudangterdekat   \n...                         ...                      ...   \n5044       kategori-pertukangan     lokasi-kab.tangerang   \n5045              kategori-buku  lokasi-kab.bandungbarat   \n5046            kategori-gaming     lokasi-kotatangerang   \n5047             kategori-dapur      lokasi-jakartabarat   \n5048            kategori-gaming        lokasi-kotabekasi   \n\n                                            product_tag  \n0     perhati buku toko harga buku original asli lan...  \n1     masker earloop kf94 anaksudah izin kemenkes ri...  \n2     cair konsentrat fungsi bersih kaca noda kotor ...  \n3     detick 1ml 2ml obat kutu tetes anjing kucing h...  \n4     bebek kloset bersih kloset kandung germinex bu...  \n...                                                 ...  \n5044  ready stock tonata rubber cone 1 8 kgsspesifik...  \n5045  info silahka produk belipaket codkategori-buku...  \n5046  link gameboy stick stick nya 5 warna hitem mer...  \n5047  sendok teh isi 12 pcs 14cmstainless steelsendo...  \n5048  paket 1 stik xbox 360 warna hitam koneksi 1 ka...  \n\n[5049 rows x 20 columns]",
      "text/html": "<div>\n<style scoped>\n    .dataframe tbody tr th:only-of-type {\n        vertical-align: middle;\n    }\n\n    .dataframe tbody tr th {\n        vertical-align: top;\n    }\n\n    .dataframe thead th {\n        text-align: right;\n    }\n</style>\n<table border=\"1\" class=\"dataframe\">\n  <thead>\n    <tr style=\"text-align: right;\">\n      <th></th>\n      <th>product_name</th>\n      <th>rating</th>\n      <th>category</th>\n      <th>from_where</th>\n      <th>satisfaction_rate</th>\n      <th>img_link</th>\n      <th>description</th>\n      <th>amount_sold</th>\n      <th>original_price</th>\n      <th>product_price</th>\n      <th>five_star</th>\n      <th>four_star</th>\n      <th>three_star</th>\n      <th>two_star</th>\n      <th>one_star</th>\n      <th>cleaned_description</th>\n      <th>cleaned_product_name</th>\n      <th>tagged_category</th>\n      <th>tagged_location</th>\n      <th>product_tag</th>\n    </tr>\n  </thead>\n  <tbody>\n    <tr>\n      <th>0</th>\n      <td>Al-Quran Ash-Shahib ORI A5 - Merah</td>\n      <td>5</td>\n      <td>Buku</td>\n      <td>Jakarta Timur</td>\n      <td>99%</td>\n      <td>https://images.tokopedia.net/img/cache/500-squ...</td>\n      <td>PERHATIAN :- Semua buku di TOKO HARGA BUKU ORI...</td>\n      <td>Terjual 2 rb+</td>\n      <td>Rp75.000</td>\n      <td>Rp75.000</td>\n      <td>657</td>\n      <td>25</td>\n      <td>4</td>\n      <td>0</td>\n      <td>0</td>\n      <td>perhati buku toko harga buku original asli lan...</td>\n      <td>al quran ash shahib ori a5 merah</td>\n      <td>kategori-buku</td>\n      <td>lokasi-jakartatimur</td>\n      <td>perhati buku toko harga buku original asli lan...</td>\n    </tr>\n    <tr>\n      <th>1</th>\n      <td>MASKER ANAK KF94 KOREA KIDS FACE MASK KF 94 AN...</td>\n      <td>4.9</td>\n      <td>Fashion Anak &amp; Bayi</td>\n      <td>Jakarta Barat</td>\n      <td>99%</td>\n      <td>https://images.tokopedia.net/img/cache/500-squ...</td>\n      <td>MASKER EARLOOP KF94 ANAKSUDAH IZIN KEMENKES RI...</td>\n      <td>Terjual 10 rb+</td>\n      <td>Rp6.500</td>\n      <td>Rp5.000</td>\n      <td>1621</td>\n      <td>104</td>\n      <td>9</td>\n      <td>1</td>\n      <td>3</td>\n      <td>masker earloop kf94 anaksudah izin kemenkes ri...</td>\n      <td>masker anak kf94 korea kids face mask kf 94 an...</td>\n      <td>kategori-fashionanak-bayi</td>\n      <td>lokasi-jakartabarat</td>\n      <td>masker earloop kf94 anaksudah izin kemenkes ri...</td>\n    </tr>\n    <tr>\n      <th>2</th>\n      <td>Otogard GOLD LINE Wiper Fluid Concentrate</td>\n      <td>4.9</td>\n      <td>Otomotif</td>\n      <td>Jakarta Selatan</td>\n      <td>97%</td>\n      <td>https://images.tokopedia.net/img/cache/500-squ...</td>\n      <td>- Cairan konsentrat yang berfungsi untuk membe...</td>\n      <td>Terjual 4 rb+</td>\n      <td>Rp72.000</td>\n      <td>Rp36.000</td>\n      <td>2339</td>\n      <td>145</td>\n      <td>34</td>\n      <td>4</td>\n      <td>24</td>\n      <td>cair konsentrat fungsi bersih kaca noda kotor ...</td>\n      <td>otogard gold line wiper fluid concentrate</td>\n      <td>kategori-otomotif</td>\n      <td>lokasi-jakartaselatan</td>\n      <td>cair konsentrat fungsi bersih kaca noda kotor ...</td>\n    </tr>\n    <tr>\n      <th>3</th>\n      <td>Detick 1ml 2ml Obat Kutu Tetes Anjing Kucing 1...</td>\n      <td>4.9</td>\n      <td>Perawatan Hewan</td>\n      <td>Kab. Tangerang</td>\n      <td>98%</td>\n      <td>https://images.tokopedia.net/img/cache/500-squ...</td>\n      <td>DETICK 1ml 2ml Obat Kutu Tetes Anjing Kucing H...</td>\n      <td>Terjual 10 rb+</td>\n      <td>Rp24.000</td>\n      <td>Rp16.950</td>\n      <td>1161</td>\n      <td>76</td>\n      <td>15</td>\n      <td>1</td>\n      <td>6</td>\n      <td>detick 1ml 2ml obat kutu tetes anjing kucing h...</td>\n      <td>detick 1ml 2ml obat kutu tetes anjing kucing 1...</td>\n      <td>kategori-perawatanhewan</td>\n      <td>lokasi-kab.tangerang</td>\n      <td>detick 1ml 2ml obat kutu tetes anjing kucing h...</td>\n    </tr>\n    <tr>\n      <th>4</th>\n      <td>Bebek Kloset Ekstra Kuat 450mL</td>\n      <td>4.8</td>\n      <td>Pertukangan</td>\n      <td>Gudang Terdekat</td>\n      <td>96%</td>\n      <td>https://images.tokopedia.net/img/cache/500-squ...</td>\n      <td>Bebek Kloset merupakan pembersih kloset yang m...</td>\n      <td>Terjual 5 rb+</td>\n      <td>Rp21.500</td>\n      <td>Rp18.920</td>\n      <td>1102</td>\n      <td>57</td>\n      <td>21</td>\n      <td>6</td>\n      <td>17</td>\n      <td>bebek kloset bersih kloset kandung germinex bu...</td>\n      <td>bebek kloset ekstra kuat 450ml</td>\n      <td>kategori-pertukangan</td>\n      <td>lokasi-gudangterdekat</td>\n      <td>bebek kloset bersih kloset kandung germinex bu...</td>\n    </tr>\n    <tr>\n      <th>...</th>\n      <td>...</td>\n      <td>...</td>\n      <td>...</td>\n      <td>...</td>\n      <td>...</td>\n      <td>...</td>\n      <td>...</td>\n      <td>...</td>\n      <td>...</td>\n      <td>...</td>\n      <td>...</td>\n      <td>...</td>\n      <td>...</td>\n      <td>...</td>\n      <td>...</td>\n      <td>...</td>\n      <td>...</td>\n      <td>...</td>\n      <td>...</td>\n      <td>...</td>\n    </tr>\n    <tr>\n      <th>5044</th>\n      <td>Safety Traffic Cone / Kerucut Lalu Lintas Tona...</td>\n      <td>5</td>\n      <td>Pertukangan</td>\n      <td>Kab. Tangerang</td>\n      <td>99%</td>\n      <td>https://images.tokopedia.net/img/cache/500-squ...</td>\n      <td>Ready Stock - Tonata Rubber Cone 1.8 KgsSpesif...</td>\n      <td>Terjual 10 rb+</td>\n      <td>Rp88.000</td>\n      <td>Rp88.000</td>\n      <td>1453</td>\n      <td>51</td>\n      <td>4</td>\n      <td>1</td>\n      <td>1</td>\n      <td>ready stock tonata rubber cone 1 8 kgsspesifik...</td>\n      <td>safety traffic cone kerucut lintas tonata 1 8 ...</td>\n      <td>kategori-pertukangan</td>\n      <td>lokasi-kab.tangerang</td>\n      <td>ready stock tonata rubber cone 1 8 kgsspesifik...</td>\n    </tr>\n    <tr>\n      <th>5045</th>\n      <td>PAKET COD (PENTING)</td>\n      <td>5</td>\n      <td>Buku</td>\n      <td>Kab. Bandung Barat</td>\n      <td>100%</td>\n      <td>https://images.tokopedia.net/img/cache/500-squ...</td>\n      <td>Untuk Info silahka  Banyak produk yang bisa di...</td>\n      <td>Terjual 8 rb+</td>\n      <td>Rp1.000</td>\n      <td>Rp1.000</td>\n      <td>29</td>\n      <td>0</td>\n      <td>0</td>\n      <td>0</td>\n      <td>0</td>\n      <td>info silahka produk beli</td>\n      <td>paket cod</td>\n      <td>kategori-buku</td>\n      <td>lokasi-kab.bandungbarat</td>\n      <td>info silahka produk belipaket codkategori-buku...</td>\n    </tr>\n    <tr>\n      <th>5046</th>\n      <td>Game Boy Retro FC 400 in 1 Gameboy Mini Gamepa...</td>\n      <td>4.8</td>\n      <td>Gaming</td>\n      <td>Kota Tangerang</td>\n      <td>95%</td>\n      <td>https://images.tokopedia.net/img/cache/500-squ...</td>\n      <td>Link Gameboy + Stick : https://www.tokopedia.c...</td>\n      <td>Terjual 10 rb+</td>\n      <td>Rp72.500</td>\n      <td>Rp72.500</td>\n      <td>1654</td>\n      <td>104</td>\n      <td>46</td>\n      <td>10</td>\n      <td>21</td>\n      <td>link gameboy stick stick nya 5 warna hitem mer...</td>\n      <td>game boy retro fc 400 in 1 gameboy mini gamepa...</td>\n      <td>kategori-gaming</td>\n      <td>lokasi-kotatangerang</td>\n      <td>link gameboy stick stick nya 5 warna hitem mer...</td>\n    </tr>\n    <tr>\n      <th>5047</th>\n      <td>SENDOK TEH ISI 12 PCS - STAINLESS STEEL</td>\n      <td>4.9</td>\n      <td>Dapur</td>\n      <td>Jakarta Barat</td>\n      <td>96%</td>\n      <td>https://images.tokopedia.net/img/cache/500-squ...</td>\n      <td>SENDOK TEH ISI 12 PCS Panjang 14cmSTAINLESS STEEL</td>\n      <td>Terjual 1 rb+</td>\n      <td>Rp8.000</td>\n      <td>Rp8.000</td>\n      <td>229</td>\n      <td>18</td>\n      <td>6</td>\n      <td>1</td>\n      <td>1</td>\n      <td>sendok teh isi 12 pcs 14cmstainless steel</td>\n      <td>sendok teh isi 12 pcs stainless steel</td>\n      <td>kategori-dapur</td>\n      <td>lokasi-jakartabarat</td>\n      <td>sendok teh isi 12 pcs 14cmstainless steelsendo...</td>\n    </tr>\n    <tr>\n      <th>5048</th>\n      <td>Stik Stick Xbox 360 Wired kabel</td>\n      <td>4.8</td>\n      <td>Gaming</td>\n      <td>Kota Bekasi</td>\n      <td>96%</td>\n      <td>https://images.tokopedia.net/img/cache/500-squ...</td>\n      <td>Paket 1 stik Xbox 360 warna hitam dengan konek...</td>\n      <td>Terjual 5 rb+</td>\n      <td>Rp110.000</td>\n      <td>Rp97.500</td>\n      <td>1916</td>\n      <td>229</td>\n      <td>46</td>\n      <td>12</td>\n      <td>24</td>\n      <td>paket 1 stik xbox 360 warna hitam koneksi 1 ka...</td>\n      <td>stik stick xbox 360 wired kabel</td>\n      <td>kategori-gaming</td>\n      <td>lokasi-kotabekasi</td>\n      <td>paket 1 stik xbox 360 warna hitam koneksi 1 ka...</td>\n    </tr>\n  </tbody>\n</table>\n<p>5049 rows × 20 columns</p>\n</div>"
     },
     "execution_count": 203,
     "metadata": {},
     "output_type": "execute_result"
    }
   ],
   "source": [
    "df_tokopedia['product_tag'] = df_tokopedia['cleaned_description'] + df_tokopedia['cleaned_product_name'] + df_tokopedia['tagged_category'] + df_tokopedia['tagged_location']\n",
    "df_tokopedia"
   ],
   "metadata": {
    "collapsed": false,
    "pycharm": {
     "name": "#%%\n"
    }
   }
  },
  {
   "cell_type": "code",
   "execution_count": 205,
   "outputs": [],
   "source": [
    "df_tokopedia.to_csv('df_tokopedia_clean.csv', index=False)"
   ],
   "metadata": {
    "collapsed": false,
    "pycharm": {
     "name": "#%%\n"
    }
   }
  },
  {
   "cell_type": "markdown",
   "source": [
    "<h1>Vectorize</h1>"
   ],
   "metadata": {
    "collapsed": false
   }
  },
  {
   "cell_type": "code",
   "execution_count": 219,
   "outputs": [
    {
     "data": {
      "text/plain": "                                           product_name rating  \\\n0                    Al-Quran Ash-Shahib ORI A5 - Merah      5   \n1     MASKER ANAK KF94 KOREA KIDS FACE MASK KF 94 AN...    4.9   \n2             Otogard GOLD LINE Wiper Fluid Concentrate    4.9   \n3     Detick 1ml 2ml Obat Kutu Tetes Anjing Kucing 1...    4.9   \n4                        Bebek Kloset Ekstra Kuat 450mL    4.8   \n...                                                 ...    ...   \n5024  Safety Traffic Cone / Kerucut Lalu Lintas Tona...      5   \n5025                                PAKET COD (PENTING)      5   \n5026  Game Boy Retro FC 400 in 1 Gameboy Mini Gamepa...    4.8   \n5027            SENDOK TEH ISI 12 PCS - STAINLESS STEEL    4.9   \n5028                    Stik Stick Xbox 360 Wired kabel    4.8   \n\n                 category          from_where satisfaction_rate  \\\n0                    Buku       Jakarta Timur               99%   \n1     Fashion Anak & Bayi       Jakarta Barat               99%   \n2                Otomotif     Jakarta Selatan               97%   \n3         Perawatan Hewan      Kab. Tangerang               98%   \n4             Pertukangan     Gudang Terdekat               96%   \n...                   ...                 ...               ...   \n5024          Pertukangan      Kab. Tangerang               99%   \n5025                 Buku  Kab. Bandung Barat              100%   \n5026               Gaming      Kota Tangerang               95%   \n5027                Dapur       Jakarta Barat               96%   \n5028               Gaming         Kota Bekasi               96%   \n\n                                               img_link  \\\n0     https://images.tokopedia.net/img/cache/500-squ...   \n1     https://images.tokopedia.net/img/cache/500-squ...   \n2     https://images.tokopedia.net/img/cache/500-squ...   \n3     https://images.tokopedia.net/img/cache/500-squ...   \n4     https://images.tokopedia.net/img/cache/500-squ...   \n...                                                 ...   \n5024  https://images.tokopedia.net/img/cache/500-squ...   \n5025  https://images.tokopedia.net/img/cache/500-squ...   \n5026  https://images.tokopedia.net/img/cache/500-squ...   \n5027  https://images.tokopedia.net/img/cache/500-squ...   \n5028  https://images.tokopedia.net/img/cache/500-squ...   \n\n                                            description     amount_sold  \\\n0     PERHATIAN :- Semua buku di TOKO HARGA BUKU ORI...   Terjual 2 rb+   \n1     MASKER EARLOOP KF94 ANAKSUDAH IZIN KEMENKES RI...  Terjual 10 rb+   \n2     - Cairan konsentrat yang berfungsi untuk membe...   Terjual 4 rb+   \n3     DETICK 1ml 2ml Obat Kutu Tetes Anjing Kucing H...  Terjual 10 rb+   \n4     Bebek Kloset merupakan pembersih kloset yang m...   Terjual 5 rb+   \n...                                                 ...             ...   \n5024  Ready Stock - Tonata Rubber Cone 1.8 KgsSpesif...  Terjual 10 rb+   \n5025  Untuk Info silahka  Banyak produk yang bisa di...   Terjual 8 rb+   \n5026  Link Gameboy + Stick : https://www.tokopedia.c...  Terjual 10 rb+   \n5027  SENDOK TEH ISI 12 PCS Panjang 14cmSTAINLESS STEEL   Terjual 1 rb+   \n5028  Paket 1 stik Xbox 360 warna hitam dengan konek...   Terjual 5 rb+   \n\n     original_price product_price five_star  four_star  three_star  two_star  \\\n0          Rp75.000      Rp75.000       657         25           4         0   \n1           Rp6.500       Rp5.000      1621        104           9         1   \n2          Rp72.000      Rp36.000      2339        145          34         4   \n3          Rp24.000      Rp16.950      1161         76          15         1   \n4          Rp21.500      Rp18.920      1102         57          21         6   \n...             ...           ...       ...        ...         ...       ...   \n5024       Rp88.000      Rp88.000      1453         51           4         1   \n5025        Rp1.000       Rp1.000        29          0           0         0   \n5026       Rp72.500      Rp72.500      1654        104          46        10   \n5027        Rp8.000       Rp8.000       229         18           6         1   \n5028      Rp110.000      Rp97.500      1916        229          46        12   \n\n      one_star                                cleaned_description  \\\n0            0  perhati buku toko harga buku original asli lan...   \n1            3  masker earloop kf94 anaksudah izin kemenkes ri...   \n2           24  cair konsentrat fungsi bersih kaca noda kotor ...   \n3            6  detick 1ml 2ml obat kutu tetes anjing kucing h...   \n4           17  bebek kloset bersih kloset kandung germinex bu...   \n...        ...                                                ...   \n5024         1  ready stock tonata rubber cone 1 8 kgsspesifik...   \n5025         0                           info silahka produk beli   \n5026        21  link gameboy stick stick nya 5 warna hitem mer...   \n5027         1          sendok teh isi 12 pcs 14cmstainless steel   \n5028        24  paket 1 stik xbox 360 warna hitam koneksi 1 ka...   \n\n                                   cleaned_product_name  \\\n0                      al quran ash shahib ori a5 merah   \n1     masker anak kf94 korea kids face mask kf 94 an...   \n2             otogard gold line wiper fluid concentrate   \n3     detick 1ml 2ml obat kutu tetes anjing kucing 1...   \n4                        bebek kloset ekstra kuat 450ml   \n...                                                 ...   \n5024  safety traffic cone kerucut lintas tonata 1 8 ...   \n5025                                          paket cod   \n5026  game boy retro fc 400 in 1 gameboy mini gamepa...   \n5027              sendok teh isi 12 pcs stainless steel   \n5028                    stik stick xbox 360 wired kabel   \n\n                tagged_category          tagged_location  \\\n0                 kategori-buku      lokasi-jakartatimur   \n1     kategori-fashionanak-bayi      lokasi-jakartabarat   \n2             kategori-otomotif    lokasi-jakartaselatan   \n3       kategori-perawatanhewan     lokasi-kab.tangerang   \n4          kategori-pertukangan    lokasi-gudangterdekat   \n...                         ...                      ...   \n5024       kategori-pertukangan     lokasi-kab.tangerang   \n5025              kategori-buku  lokasi-kab.bandungbarat   \n5026            kategori-gaming     lokasi-kotatangerang   \n5027             kategori-dapur      lokasi-jakartabarat   \n5028            kategori-gaming        lokasi-kotabekasi   \n\n                                            product_tag  \n0     perhati buku toko harga buku original asli lan...  \n1     masker earloop kf94 anaksudah izin kemenkes ri...  \n2     cair konsentrat fungsi bersih kaca noda kotor ...  \n3     detick 1ml 2ml obat kutu tetes anjing kucing h...  \n4     bebek kloset bersih kloset kandung germinex bu...  \n...                                                 ...  \n5024  ready stock tonata rubber cone 1 8 kgsspesifik...  \n5025  info silahka produk belipaket codkategori-buku...  \n5026  link gameboy stick stick nya 5 warna hitem mer...  \n5027  sendok teh isi 12 pcs 14cmstainless steelsendo...  \n5028  paket 1 stik xbox 360 warna hitam koneksi 1 ka...  \n\n[5029 rows x 20 columns]",
      "text/html": "<div>\n<style scoped>\n    .dataframe tbody tr th:only-of-type {\n        vertical-align: middle;\n    }\n\n    .dataframe tbody tr th {\n        vertical-align: top;\n    }\n\n    .dataframe thead th {\n        text-align: right;\n    }\n</style>\n<table border=\"1\" class=\"dataframe\">\n  <thead>\n    <tr style=\"text-align: right;\">\n      <th></th>\n      <th>product_name</th>\n      <th>rating</th>\n      <th>category</th>\n      <th>from_where</th>\n      <th>satisfaction_rate</th>\n      <th>img_link</th>\n      <th>description</th>\n      <th>amount_sold</th>\n      <th>original_price</th>\n      <th>product_price</th>\n      <th>five_star</th>\n      <th>four_star</th>\n      <th>three_star</th>\n      <th>two_star</th>\n      <th>one_star</th>\n      <th>cleaned_description</th>\n      <th>cleaned_product_name</th>\n      <th>tagged_category</th>\n      <th>tagged_location</th>\n      <th>product_tag</th>\n    </tr>\n  </thead>\n  <tbody>\n    <tr>\n      <th>0</th>\n      <td>Al-Quran Ash-Shahib ORI A5 - Merah</td>\n      <td>5</td>\n      <td>Buku</td>\n      <td>Jakarta Timur</td>\n      <td>99%</td>\n      <td>https://images.tokopedia.net/img/cache/500-squ...</td>\n      <td>PERHATIAN :- Semua buku di TOKO HARGA BUKU ORI...</td>\n      <td>Terjual 2 rb+</td>\n      <td>Rp75.000</td>\n      <td>Rp75.000</td>\n      <td>657</td>\n      <td>25</td>\n      <td>4</td>\n      <td>0</td>\n      <td>0</td>\n      <td>perhati buku toko harga buku original asli lan...</td>\n      <td>al quran ash shahib ori a5 merah</td>\n      <td>kategori-buku</td>\n      <td>lokasi-jakartatimur</td>\n      <td>perhati buku toko harga buku original asli lan...</td>\n    </tr>\n    <tr>\n      <th>1</th>\n      <td>MASKER ANAK KF94 KOREA KIDS FACE MASK KF 94 AN...</td>\n      <td>4.9</td>\n      <td>Fashion Anak &amp; Bayi</td>\n      <td>Jakarta Barat</td>\n      <td>99%</td>\n      <td>https://images.tokopedia.net/img/cache/500-squ...</td>\n      <td>MASKER EARLOOP KF94 ANAKSUDAH IZIN KEMENKES RI...</td>\n      <td>Terjual 10 rb+</td>\n      <td>Rp6.500</td>\n      <td>Rp5.000</td>\n      <td>1621</td>\n      <td>104</td>\n      <td>9</td>\n      <td>1</td>\n      <td>3</td>\n      <td>masker earloop kf94 anaksudah izin kemenkes ri...</td>\n      <td>masker anak kf94 korea kids face mask kf 94 an...</td>\n      <td>kategori-fashionanak-bayi</td>\n      <td>lokasi-jakartabarat</td>\n      <td>masker earloop kf94 anaksudah izin kemenkes ri...</td>\n    </tr>\n    <tr>\n      <th>2</th>\n      <td>Otogard GOLD LINE Wiper Fluid Concentrate</td>\n      <td>4.9</td>\n      <td>Otomotif</td>\n      <td>Jakarta Selatan</td>\n      <td>97%</td>\n      <td>https://images.tokopedia.net/img/cache/500-squ...</td>\n      <td>- Cairan konsentrat yang berfungsi untuk membe...</td>\n      <td>Terjual 4 rb+</td>\n      <td>Rp72.000</td>\n      <td>Rp36.000</td>\n      <td>2339</td>\n      <td>145</td>\n      <td>34</td>\n      <td>4</td>\n      <td>24</td>\n      <td>cair konsentrat fungsi bersih kaca noda kotor ...</td>\n      <td>otogard gold line wiper fluid concentrate</td>\n      <td>kategori-otomotif</td>\n      <td>lokasi-jakartaselatan</td>\n      <td>cair konsentrat fungsi bersih kaca noda kotor ...</td>\n    </tr>\n    <tr>\n      <th>3</th>\n      <td>Detick 1ml 2ml Obat Kutu Tetes Anjing Kucing 1...</td>\n      <td>4.9</td>\n      <td>Perawatan Hewan</td>\n      <td>Kab. Tangerang</td>\n      <td>98%</td>\n      <td>https://images.tokopedia.net/img/cache/500-squ...</td>\n      <td>DETICK 1ml 2ml Obat Kutu Tetes Anjing Kucing H...</td>\n      <td>Terjual 10 rb+</td>\n      <td>Rp24.000</td>\n      <td>Rp16.950</td>\n      <td>1161</td>\n      <td>76</td>\n      <td>15</td>\n      <td>1</td>\n      <td>6</td>\n      <td>detick 1ml 2ml obat kutu tetes anjing kucing h...</td>\n      <td>detick 1ml 2ml obat kutu tetes anjing kucing 1...</td>\n      <td>kategori-perawatanhewan</td>\n      <td>lokasi-kab.tangerang</td>\n      <td>detick 1ml 2ml obat kutu tetes anjing kucing h...</td>\n    </tr>\n    <tr>\n      <th>4</th>\n      <td>Bebek Kloset Ekstra Kuat 450mL</td>\n      <td>4.8</td>\n      <td>Pertukangan</td>\n      <td>Gudang Terdekat</td>\n      <td>96%</td>\n      <td>https://images.tokopedia.net/img/cache/500-squ...</td>\n      <td>Bebek Kloset merupakan pembersih kloset yang m...</td>\n      <td>Terjual 5 rb+</td>\n      <td>Rp21.500</td>\n      <td>Rp18.920</td>\n      <td>1102</td>\n      <td>57</td>\n      <td>21</td>\n      <td>6</td>\n      <td>17</td>\n      <td>bebek kloset bersih kloset kandung germinex bu...</td>\n      <td>bebek kloset ekstra kuat 450ml</td>\n      <td>kategori-pertukangan</td>\n      <td>lokasi-gudangterdekat</td>\n      <td>bebek kloset bersih kloset kandung germinex bu...</td>\n    </tr>\n    <tr>\n      <th>...</th>\n      <td>...</td>\n      <td>...</td>\n      <td>...</td>\n      <td>...</td>\n      <td>...</td>\n      <td>...</td>\n      <td>...</td>\n      <td>...</td>\n      <td>...</td>\n      <td>...</td>\n      <td>...</td>\n      <td>...</td>\n      <td>...</td>\n      <td>...</td>\n      <td>...</td>\n      <td>...</td>\n      <td>...</td>\n      <td>...</td>\n      <td>...</td>\n      <td>...</td>\n    </tr>\n    <tr>\n      <th>5024</th>\n      <td>Safety Traffic Cone / Kerucut Lalu Lintas Tona...</td>\n      <td>5</td>\n      <td>Pertukangan</td>\n      <td>Kab. Tangerang</td>\n      <td>99%</td>\n      <td>https://images.tokopedia.net/img/cache/500-squ...</td>\n      <td>Ready Stock - Tonata Rubber Cone 1.8 KgsSpesif...</td>\n      <td>Terjual 10 rb+</td>\n      <td>Rp88.000</td>\n      <td>Rp88.000</td>\n      <td>1453</td>\n      <td>51</td>\n      <td>4</td>\n      <td>1</td>\n      <td>1</td>\n      <td>ready stock tonata rubber cone 1 8 kgsspesifik...</td>\n      <td>safety traffic cone kerucut lintas tonata 1 8 ...</td>\n      <td>kategori-pertukangan</td>\n      <td>lokasi-kab.tangerang</td>\n      <td>ready stock tonata rubber cone 1 8 kgsspesifik...</td>\n    </tr>\n    <tr>\n      <th>5025</th>\n      <td>PAKET COD (PENTING)</td>\n      <td>5</td>\n      <td>Buku</td>\n      <td>Kab. Bandung Barat</td>\n      <td>100%</td>\n      <td>https://images.tokopedia.net/img/cache/500-squ...</td>\n      <td>Untuk Info silahka  Banyak produk yang bisa di...</td>\n      <td>Terjual 8 rb+</td>\n      <td>Rp1.000</td>\n      <td>Rp1.000</td>\n      <td>29</td>\n      <td>0</td>\n      <td>0</td>\n      <td>0</td>\n      <td>0</td>\n      <td>info silahka produk beli</td>\n      <td>paket cod</td>\n      <td>kategori-buku</td>\n      <td>lokasi-kab.bandungbarat</td>\n      <td>info silahka produk belipaket codkategori-buku...</td>\n    </tr>\n    <tr>\n      <th>5026</th>\n      <td>Game Boy Retro FC 400 in 1 Gameboy Mini Gamepa...</td>\n      <td>4.8</td>\n      <td>Gaming</td>\n      <td>Kota Tangerang</td>\n      <td>95%</td>\n      <td>https://images.tokopedia.net/img/cache/500-squ...</td>\n      <td>Link Gameboy + Stick : https://www.tokopedia.c...</td>\n      <td>Terjual 10 rb+</td>\n      <td>Rp72.500</td>\n      <td>Rp72.500</td>\n      <td>1654</td>\n      <td>104</td>\n      <td>46</td>\n      <td>10</td>\n      <td>21</td>\n      <td>link gameboy stick stick nya 5 warna hitem mer...</td>\n      <td>game boy retro fc 400 in 1 gameboy mini gamepa...</td>\n      <td>kategori-gaming</td>\n      <td>lokasi-kotatangerang</td>\n      <td>link gameboy stick stick nya 5 warna hitem mer...</td>\n    </tr>\n    <tr>\n      <th>5027</th>\n      <td>SENDOK TEH ISI 12 PCS - STAINLESS STEEL</td>\n      <td>4.9</td>\n      <td>Dapur</td>\n      <td>Jakarta Barat</td>\n      <td>96%</td>\n      <td>https://images.tokopedia.net/img/cache/500-squ...</td>\n      <td>SENDOK TEH ISI 12 PCS Panjang 14cmSTAINLESS STEEL</td>\n      <td>Terjual 1 rb+</td>\n      <td>Rp8.000</td>\n      <td>Rp8.000</td>\n      <td>229</td>\n      <td>18</td>\n      <td>6</td>\n      <td>1</td>\n      <td>1</td>\n      <td>sendok teh isi 12 pcs 14cmstainless steel</td>\n      <td>sendok teh isi 12 pcs stainless steel</td>\n      <td>kategori-dapur</td>\n      <td>lokasi-jakartabarat</td>\n      <td>sendok teh isi 12 pcs 14cmstainless steelsendo...</td>\n    </tr>\n    <tr>\n      <th>5028</th>\n      <td>Stik Stick Xbox 360 Wired kabel</td>\n      <td>4.8</td>\n      <td>Gaming</td>\n      <td>Kota Bekasi</td>\n      <td>96%</td>\n      <td>https://images.tokopedia.net/img/cache/500-squ...</td>\n      <td>Paket 1 stik Xbox 360 warna hitam dengan konek...</td>\n      <td>Terjual 5 rb+</td>\n      <td>Rp110.000</td>\n      <td>Rp97.500</td>\n      <td>1916</td>\n      <td>229</td>\n      <td>46</td>\n      <td>12</td>\n      <td>24</td>\n      <td>paket 1 stik xbox 360 warna hitam koneksi 1 ka...</td>\n      <td>stik stick xbox 360 wired kabel</td>\n      <td>kategori-gaming</td>\n      <td>lokasi-kotabekasi</td>\n      <td>paket 1 stik xbox 360 warna hitam koneksi 1 ka...</td>\n    </tr>\n  </tbody>\n</table>\n<p>5029 rows × 20 columns</p>\n</div>"
     },
     "execution_count": 219,
     "metadata": {},
     "output_type": "execute_result"
    }
   ],
   "source": [
    "df_tokopedia = pd.read_csv('df_tokopedia_clean.csv')\n",
    "df_tokopedia"
   ],
   "metadata": {
    "collapsed": false,
    "pycharm": {
     "name": "#%%\n"
    }
   }
  },
  {
   "cell_type": "code",
   "execution_count": 204,
   "outputs": [
    {
     "name": "stdout",
     "output_type": "stream",
     "text": [
      "<class 'pandas.core.frame.DataFrame'>\n",
      "Int64Index: 5029 entries, 0 to 5048\n",
      "Data columns (total 20 columns):\n",
      " #   Column                Non-Null Count  Dtype \n",
      "---  ------                --------------  ----- \n",
      " 0   product_name          5029 non-null   object\n",
      " 1   rating                5029 non-null   object\n",
      " 2   category              5029 non-null   object\n",
      " 3   from_where            5029 non-null   object\n",
      " 4   satisfaction_rate     5029 non-null   object\n",
      " 5   img_link              5029 non-null   object\n",
      " 6   description           5029 non-null   object\n",
      " 7   amount_sold           5029 non-null   object\n",
      " 8   original_price        5029 non-null   object\n",
      " 9   product_price         5029 non-null   object\n",
      " 10  five_star             5029 non-null   object\n",
      " 11  four_star             5029 non-null   int64 \n",
      " 12  three_star            5029 non-null   int64 \n",
      " 13  two_star              5029 non-null   int64 \n",
      " 14  one_star              5029 non-null   int64 \n",
      " 15  cleaned_description   5029 non-null   object\n",
      " 16  cleaned_product_name  5029 non-null   object\n",
      " 17  tagged_category       5029 non-null   object\n",
      " 18  tagged_location       5029 non-null   object\n",
      " 19  product_tag           5029 non-null   object\n",
      "dtypes: int64(4), object(16)\n",
      "memory usage: 825.1+ KB\n"
     ]
    }
   ],
   "source": [
    "df_tokopedia.dropna(inplace=True)\n",
    "df_tokopedia.info()"
   ],
   "metadata": {
    "collapsed": false,
    "pycharm": {
     "name": "#%%\n"
    }
   }
  },
  {
   "cell_type": "code",
   "execution_count": 215,
   "outputs": [],
   "source": [
    "def recommend(product_name):\n",
    "    tfidf_vectorizer = TfidfVectorizer(analyzer='word', ngram_range=(1,6), min_df=0)\n",
    "    product_index = df_tokopedia[df_tokopedia['product_name'] == product_name].index[0]\n",
    "\n",
    "    tfidf_product_tag_vector = tfidf_vectorizer.fit_transform(df_tokopedia['product_tag'])\n",
    "    product_tag_query = df_tokopedia.iloc[[product_index]]['product_tag'][product_index]\n",
    "    product_query_vector = tfidf_vectorizer.transform([product_tag_query])\n",
    "    product_similarity = cosine_similarity(product_query_vector, tfidf_product_tag_vector).flatten()\n",
    "\n",
    "    # product_indices = np.argpartition(product_name_description_similarity, -1)[-1:]\n",
    "    # product_indices = np.argpartition(product_name_similarity, -5)[-5:]\n",
    "    product_indices = np.argpartition(product_similarity, -10)[-10:]\n",
    "    product_results = df_tokopedia.iloc[product_indices]\n",
    "    # product_name_\n",
    "    return product_results"
   ],
   "metadata": {
    "collapsed": false,
    "pycharm": {
     "name": "#%%\n"
    }
   }
  },
  {
   "cell_type": "code",
   "execution_count": 218,
   "outputs": [
    {
     "data": {
      "text/plain": "                                           product_name rating      category  \\\n907   Guitar Capo Kapo Gitar Bass Akustik Elektrik U...    4.8  Film & Musik   \n229   Stand Gitar - Tempat Gitar - Dudukan Gitar - T...    4.9  Film & Musik   \n2363  Pick Alice Original Pik Gitar Ukuran 0.46 0.71...    4.9  Film & Musik   \n3500  Senar Gitar Elektrik String Ernie Ball Slinky ...    4.8  Film & Musik   \n4309            Alice Pick Gitar Akustik 50 pcs - A011A      5  Film & Musik   \n4489  Senar Gitar Elektrik String Elixir Polyweb Nan...    4.9  Film & Musik   \n2332             Pick Gitar Akustik 50PCS - Multi-Color    4.9  Film & Musik   \n3861  Senar Gitar Akustik String Elixir Nanoweb 0.10...    4.9  Film & Musik   \n3369        Alice Pick Gitar Akustik 50 PCS Multi Color    4.9  Film & Musik   \n4325       Pick Gitar atau Pemetik Gitar murah - 0.71mm    4.9  Film & Musik   \n\n          from_where satisfaction_rate  \\\n907       Kota Depok               96%   \n229   Kota Tangerang               98%   \n2363    Kota Bandung               98%   \n3500    Kota Bandung               95%   \n4309    Kota Bandung               99%   \n4489    Kota Bandung               97%   \n2332   Jakarta Pusat               99%   \n3861    Kota Bandung               98%   \n3369   Jakarta Barat               98%   \n4325    Kota Bandung               98%   \n\n                                               img_link  \\\n907   https://images.tokopedia.net/img/cache/500-squ...   \n229   https://images.tokopedia.net/img/cache/500-squ...   \n2363  https://images.tokopedia.net/img/cache/500-squ...   \n3500  https://images.tokopedia.net/img/cache/500-squ...   \n4309  https://images.tokopedia.net/img/cache/500-squ...   \n4489  https://images.tokopedia.net/img/cache/500-squ...   \n2332  https://images.tokopedia.net/img/cache/500-squ...   \n3861  https://images.tokopedia.net/img/cache/500-squ...   \n3369  https://images.tokopedia.net/img/cache/500-squ...   \n4325  https://images.tokopedia.net/img/cache/500-squ...   \n\n                                            description    amount_sold  \\\n907   Bisa untuk gitar akustik, listrik, maupun gita...  Terjual 3 rb+   \n229   Height Adjustable: 64 - 75 cmMaterial: Metal +...   Terjual 500+   \n2363  Pick Alice ini adalah pick yang sudah dikenal ...  Terjual 3 rb+   \n3500  READY STOCK kakk.. 😇 LANGSUNG ORDER YA KA....P...  Terjual 1 rb+   \n4309  Pick Gitar Alice 50pcs + Box Warna: multi colo...   Terjual 250+   \n4489  READY STOCK kakk.. 😇 LANGSUNG ORDER YA KA....P...   Terjual 750+   \n2332  Spec of Pick Gitar Akustik 50PCS :Material \\t:...  Terjual 5 rb+   \n3861  Note : Hati hati produk tiruan dengan harga mu...  Terjual 1 rb+   \n3369  Pick Gitar atau Guitar Pick adalah sejenis ala...  Terjual 1 rb+   \n4325  Pick Gitar Alice Murah Pemetik Gitar 0.58 0.71...  Terjual 1 rb+   \n\n     original_price product_price five_star  four_star  three_star  two_star  \\\n907        Rp12.500      Rp12.500      1399        135          39        10   \n229        Rp62.500      Rp62.500       303         14           1         1   \n2363        Rp1.200       Rp1.200       149          8           1         0   \n3500       Rp80.000      Rp54.000       566         29          13         1   \n4309       Rp29.999      Rp28.500       147          5           1         0   \n4489       Rp80.000      Rp54.000       375         25           7         2   \n2332       Rp27.500      Rp27.500      1958         95          14         2   \n3861       Rp75.000      Rp45.000       524         29           5         3   \n3369       Rp55.100      Rp55.100       499         18           5         1   \n4325        Rp2.000       Rp1.500       209         11           3         0   \n\n      one_star                                cleaned_description  \\\n907          9  gitar akustik listrik gitar klasik warna hitam...   \n229          2  height adjustable 64 75 cmmaterial metal rubbe...   \n2363         1  pick alice pick kenal musisi produk original s...   \n3500        11  ready stock kakk langsung order ya ka pesan ke...   \n4309         0  pick gitar alice 50pcs box warna multi color a...   \n4489         2  ready stock kakk langsung order ya ka pesan ke...   \n2332         1  spec of pick gitar akustik 50pcs material plas...   \n3861         2  note hati hati produk tiru harga murah selisih...   \n3369         0  pick gitar guitar pick jenis alat bantu petik ...   \n4325         0  pick gitar alice murah petik gitar 0 58 0 71 0...   \n\n                                   cleaned_product_name      tagged_category  \\\n907   guitar capo kapo gitar bass akustik elektrik u...  kategori-film-musik   \n229    stand gitar gitar duduk gitar taffstudio hk00433  kategori-film-musik   \n2363  pick alice original pik gitar ukur 0 46 0 71 0...  kategori-film-musik   \n3500  senar gitar elektrik string ernie ball slinky ...  kategori-film-musik   \n4309              alice pick gitar akustik 50 pcs a011a  kategori-film-musik   \n4489  senar gitar elektrik string elixir polyweb nan...  kategori-film-musik   \n2332               pick gitar akustik 50pcs multi color  kategori-film-musik   \n3861  senar gitar akustik string elixir nanoweb 0 10...  kategori-film-musik   \n3369        alice pick gitar akustik 50 pcs multi color  kategori-film-musik   \n4325                pick gitar petik gitar murah 0 71mm  kategori-film-musik   \n\n           tagged_location                                        product_tag  \n907       lokasi-kotadepok  gitar akustik listrik gitar klasik warna hitam...  \n229   lokasi-kotatangerang  height adjustable 64 75 cmmaterial metal rubbe...  \n2363    lokasi-kotabandung  pick alice pick kenal musisi produk original s...  \n3500    lokasi-kotabandung  ready stock kakk langsung order ya ka pesan ke...  \n4309    lokasi-kotabandung  pick gitar alice 50pcs box warna multi color a...  \n4489    lokasi-kotabandung  ready stock kakk langsung order ya ka pesan ke...  \n2332   lokasi-jakartapusat  spec of pick gitar akustik 50pcs material plas...  \n3861    lokasi-kotabandung  note hati hati produk tiru harga murah selisih...  \n3369   lokasi-jakartabarat  pick gitar guitar pick jenis alat bantu petik ...  \n4325    lokasi-kotabandung  pick gitar alice murah petik gitar 0 58 0 71 0...  ",
      "text/html": "<div>\n<style scoped>\n    .dataframe tbody tr th:only-of-type {\n        vertical-align: middle;\n    }\n\n    .dataframe tbody tr th {\n        vertical-align: top;\n    }\n\n    .dataframe thead th {\n        text-align: right;\n    }\n</style>\n<table border=\"1\" class=\"dataframe\">\n  <thead>\n    <tr style=\"text-align: right;\">\n      <th></th>\n      <th>product_name</th>\n      <th>rating</th>\n      <th>category</th>\n      <th>from_where</th>\n      <th>satisfaction_rate</th>\n      <th>img_link</th>\n      <th>description</th>\n      <th>amount_sold</th>\n      <th>original_price</th>\n      <th>product_price</th>\n      <th>five_star</th>\n      <th>four_star</th>\n      <th>three_star</th>\n      <th>two_star</th>\n      <th>one_star</th>\n      <th>cleaned_description</th>\n      <th>cleaned_product_name</th>\n      <th>tagged_category</th>\n      <th>tagged_location</th>\n      <th>product_tag</th>\n    </tr>\n  </thead>\n  <tbody>\n    <tr>\n      <th>907</th>\n      <td>Guitar Capo Kapo Gitar Bass Akustik Elektrik U...</td>\n      <td>4.8</td>\n      <td>Film &amp; Musik</td>\n      <td>Kota Depok</td>\n      <td>96%</td>\n      <td>https://images.tokopedia.net/img/cache/500-squ...</td>\n      <td>Bisa untuk gitar akustik, listrik, maupun gita...</td>\n      <td>Terjual 3 rb+</td>\n      <td>Rp12.500</td>\n      <td>Rp12.500</td>\n      <td>1399</td>\n      <td>135</td>\n      <td>39</td>\n      <td>10</td>\n      <td>9</td>\n      <td>gitar akustik listrik gitar klasik warna hitam...</td>\n      <td>guitar capo kapo gitar bass akustik elektrik u...</td>\n      <td>kategori-film-musik</td>\n      <td>lokasi-kotadepok</td>\n      <td>gitar akustik listrik gitar klasik warna hitam...</td>\n    </tr>\n    <tr>\n      <th>229</th>\n      <td>Stand Gitar - Tempat Gitar - Dudukan Gitar - T...</td>\n      <td>4.9</td>\n      <td>Film &amp; Musik</td>\n      <td>Kota Tangerang</td>\n      <td>98%</td>\n      <td>https://images.tokopedia.net/img/cache/500-squ...</td>\n      <td>Height Adjustable: 64 - 75 cmMaterial: Metal +...</td>\n      <td>Terjual 500+</td>\n      <td>Rp62.500</td>\n      <td>Rp62.500</td>\n      <td>303</td>\n      <td>14</td>\n      <td>1</td>\n      <td>1</td>\n      <td>2</td>\n      <td>height adjustable 64 75 cmmaterial metal rubbe...</td>\n      <td>stand gitar gitar duduk gitar taffstudio hk00433</td>\n      <td>kategori-film-musik</td>\n      <td>lokasi-kotatangerang</td>\n      <td>height adjustable 64 75 cmmaterial metal rubbe...</td>\n    </tr>\n    <tr>\n      <th>2363</th>\n      <td>Pick Alice Original Pik Gitar Ukuran 0.46 0.71...</td>\n      <td>4.9</td>\n      <td>Film &amp; Musik</td>\n      <td>Kota Bandung</td>\n      <td>98%</td>\n      <td>https://images.tokopedia.net/img/cache/500-squ...</td>\n      <td>Pick Alice ini adalah pick yang sudah dikenal ...</td>\n      <td>Terjual 3 rb+</td>\n      <td>Rp1.200</td>\n      <td>Rp1.200</td>\n      <td>149</td>\n      <td>8</td>\n      <td>1</td>\n      <td>0</td>\n      <td>1</td>\n      <td>pick alice pick kenal musisi produk original s...</td>\n      <td>pick alice original pik gitar ukur 0 46 0 71 0...</td>\n      <td>kategori-film-musik</td>\n      <td>lokasi-kotabandung</td>\n      <td>pick alice pick kenal musisi produk original s...</td>\n    </tr>\n    <tr>\n      <th>3500</th>\n      <td>Senar Gitar Elektrik String Ernie Ball Slinky ...</td>\n      <td>4.8</td>\n      <td>Film &amp; Musik</td>\n      <td>Kota Bandung</td>\n      <td>95%</td>\n      <td>https://images.tokopedia.net/img/cache/500-squ...</td>\n      <td>READY STOCK kakk.. 😇 LANGSUNG ORDER YA KA....P...</td>\n      <td>Terjual 1 rb+</td>\n      <td>Rp80.000</td>\n      <td>Rp54.000</td>\n      <td>566</td>\n      <td>29</td>\n      <td>13</td>\n      <td>1</td>\n      <td>11</td>\n      <td>ready stock kakk langsung order ya ka pesan ke...</td>\n      <td>senar gitar elektrik string ernie ball slinky ...</td>\n      <td>kategori-film-musik</td>\n      <td>lokasi-kotabandung</td>\n      <td>ready stock kakk langsung order ya ka pesan ke...</td>\n    </tr>\n    <tr>\n      <th>4309</th>\n      <td>Alice Pick Gitar Akustik 50 pcs - A011A</td>\n      <td>5</td>\n      <td>Film &amp; Musik</td>\n      <td>Kota Bandung</td>\n      <td>99%</td>\n      <td>https://images.tokopedia.net/img/cache/500-squ...</td>\n      <td>Pick Gitar Alice 50pcs + Box Warna: multi colo...</td>\n      <td>Terjual 250+</td>\n      <td>Rp29.999</td>\n      <td>Rp28.500</td>\n      <td>147</td>\n      <td>5</td>\n      <td>1</td>\n      <td>0</td>\n      <td>0</td>\n      <td>pick gitar alice 50pcs box warna multi color a...</td>\n      <td>alice pick gitar akustik 50 pcs a011a</td>\n      <td>kategori-film-musik</td>\n      <td>lokasi-kotabandung</td>\n      <td>pick gitar alice 50pcs box warna multi color a...</td>\n    </tr>\n    <tr>\n      <th>4489</th>\n      <td>Senar Gitar Elektrik String Elixir Polyweb Nan...</td>\n      <td>4.9</td>\n      <td>Film &amp; Musik</td>\n      <td>Kota Bandung</td>\n      <td>97%</td>\n      <td>https://images.tokopedia.net/img/cache/500-squ...</td>\n      <td>READY STOCK kakk.. 😇 LANGSUNG ORDER YA KA....P...</td>\n      <td>Terjual 750+</td>\n      <td>Rp80.000</td>\n      <td>Rp54.000</td>\n      <td>375</td>\n      <td>25</td>\n      <td>7</td>\n      <td>2</td>\n      <td>2</td>\n      <td>ready stock kakk langsung order ya ka pesan ke...</td>\n      <td>senar gitar elektrik string elixir polyweb nan...</td>\n      <td>kategori-film-musik</td>\n      <td>lokasi-kotabandung</td>\n      <td>ready stock kakk langsung order ya ka pesan ke...</td>\n    </tr>\n    <tr>\n      <th>2332</th>\n      <td>Pick Gitar Akustik 50PCS - Multi-Color</td>\n      <td>4.9</td>\n      <td>Film &amp; Musik</td>\n      <td>Jakarta Pusat</td>\n      <td>99%</td>\n      <td>https://images.tokopedia.net/img/cache/500-squ...</td>\n      <td>Spec of Pick Gitar Akustik 50PCS :Material \\t:...</td>\n      <td>Terjual 5 rb+</td>\n      <td>Rp27.500</td>\n      <td>Rp27.500</td>\n      <td>1958</td>\n      <td>95</td>\n      <td>14</td>\n      <td>2</td>\n      <td>1</td>\n      <td>spec of pick gitar akustik 50pcs material plas...</td>\n      <td>pick gitar akustik 50pcs multi color</td>\n      <td>kategori-film-musik</td>\n      <td>lokasi-jakartapusat</td>\n      <td>spec of pick gitar akustik 50pcs material plas...</td>\n    </tr>\n    <tr>\n      <th>3861</th>\n      <td>Senar Gitar Akustik String Elixir Nanoweb 0.10...</td>\n      <td>4.9</td>\n      <td>Film &amp; Musik</td>\n      <td>Kota Bandung</td>\n      <td>98%</td>\n      <td>https://images.tokopedia.net/img/cache/500-squ...</td>\n      <td>Note : Hati hati produk tiruan dengan harga mu...</td>\n      <td>Terjual 1 rb+</td>\n      <td>Rp75.000</td>\n      <td>Rp45.000</td>\n      <td>524</td>\n      <td>29</td>\n      <td>5</td>\n      <td>3</td>\n      <td>2</td>\n      <td>note hati hati produk tiru harga murah selisih...</td>\n      <td>senar gitar akustik string elixir nanoweb 0 10...</td>\n      <td>kategori-film-musik</td>\n      <td>lokasi-kotabandung</td>\n      <td>note hati hati produk tiru harga murah selisih...</td>\n    </tr>\n    <tr>\n      <th>3369</th>\n      <td>Alice Pick Gitar Akustik 50 PCS Multi Color</td>\n      <td>4.9</td>\n      <td>Film &amp; Musik</td>\n      <td>Jakarta Barat</td>\n      <td>98%</td>\n      <td>https://images.tokopedia.net/img/cache/500-squ...</td>\n      <td>Pick Gitar atau Guitar Pick adalah sejenis ala...</td>\n      <td>Terjual 1 rb+</td>\n      <td>Rp55.100</td>\n      <td>Rp55.100</td>\n      <td>499</td>\n      <td>18</td>\n      <td>5</td>\n      <td>1</td>\n      <td>0</td>\n      <td>pick gitar guitar pick jenis alat bantu petik ...</td>\n      <td>alice pick gitar akustik 50 pcs multi color</td>\n      <td>kategori-film-musik</td>\n      <td>lokasi-jakartabarat</td>\n      <td>pick gitar guitar pick jenis alat bantu petik ...</td>\n    </tr>\n    <tr>\n      <th>4325</th>\n      <td>Pick Gitar atau Pemetik Gitar murah - 0.71mm</td>\n      <td>4.9</td>\n      <td>Film &amp; Musik</td>\n      <td>Kota Bandung</td>\n      <td>98%</td>\n      <td>https://images.tokopedia.net/img/cache/500-squ...</td>\n      <td>Pick Gitar Alice Murah Pemetik Gitar 0.58 0.71...</td>\n      <td>Terjual 1 rb+</td>\n      <td>Rp2.000</td>\n      <td>Rp1.500</td>\n      <td>209</td>\n      <td>11</td>\n      <td>3</td>\n      <td>0</td>\n      <td>0</td>\n      <td>pick gitar alice murah petik gitar 0 58 0 71 0...</td>\n      <td>pick gitar petik gitar murah 0 71mm</td>\n      <td>kategori-film-musik</td>\n      <td>lokasi-kotabandung</td>\n      <td>pick gitar alice murah petik gitar 0 58 0 71 0...</td>\n    </tr>\n  </tbody>\n</table>\n</div>"
     },
     "execution_count": 218,
     "metadata": {},
     "output_type": "execute_result"
    }
   ],
   "source": [
    "recommend('Pick Gitar atau Pemetik Gitar murah - 0.71mm')"
   ],
   "metadata": {
    "collapsed": false,
    "pycharm": {
     "name": "#%%\n"
    }
   }
  },
  {
   "cell_type": "code",
   "execution_count": null,
   "outputs": [],
   "source": [],
   "metadata": {
    "collapsed": false,
    "pycharm": {
     "name": "#%%\n"
    }
   }
  }
 ],
 "metadata": {
  "kernelspec": {
   "display_name": "Python 3",
   "language": "python",
   "name": "python3"
  },
  "language_info": {
   "codemirror_mode": {
    "name": "ipython",
    "version": 2
   },
   "file_extension": ".py",
   "mimetype": "text/x-python",
   "name": "python",
   "nbconvert_exporter": "python",
   "pygments_lexer": "ipython2",
   "version": "2.7.6"
  }
 },
 "nbformat": 4,
 "nbformat_minor": 0
}